{
 "cells": [
  {
   "cell_type": "markdown",
   "id": "df342f36-e656-49d7-98af-70b198778863",
   "metadata": {},
   "source": [
    "# Capstone 3: Data Wrangling\n",
    "### By Joshua Dytko"
   ]
  },
  {
   "cell_type": "code",
   "execution_count": 1,
   "id": "ac107f5d-5285-416e-b5cb-0de0cfae1de5",
   "metadata": {},
   "outputs": [],
   "source": [
    "import pandas as pd\n",
    "import numpy as np"
   ]
  },
  {
   "cell_type": "markdown",
   "id": "119fa365-5ae4-4007-b379-f39ebc5a6f45",
   "metadata": {},
   "source": [
    "The dataset comes from the Amazon Review Data (2018) from https://nijianmo.github.io/amazon/#subsets. The specific dataset used here ist he movies and tv data set. The data is in jsonl format. Jsonl is a format where each record is kept on a single line in the file. Pandas has a convenient \"lines\" optional argument that we can set to true that will allow it to read single line json. The data should already be cleaned and cleansed by the team that accumulated the data. We will confirm that here."
   ]
  },
  {
   "cell_type": "code",
   "execution_count": 2,
   "id": "0a5188f5-ef07-4c00-9404-1e4616068900",
   "metadata": {},
   "outputs": [],
   "source": [
    "df = pd.read_json('Movies_and_TV_5.json', lines=True)"
   ]
  },
  {
   "cell_type": "code",
   "execution_count": 3,
   "id": "e18cbdd6-767d-42b3-abb4-7a0b6ec86043",
   "metadata": {},
   "outputs": [
    {
     "data": {
      "text/html": [
       "<div>\n",
       "<style scoped>\n",
       "    .dataframe tbody tr th:only-of-type {\n",
       "        vertical-align: middle;\n",
       "    }\n",
       "\n",
       "    .dataframe tbody tr th {\n",
       "        vertical-align: top;\n",
       "    }\n",
       "\n",
       "    .dataframe thead th {\n",
       "        text-align: right;\n",
       "    }\n",
       "</style>\n",
       "<table border=\"1\" class=\"dataframe\">\n",
       "  <thead>\n",
       "    <tr style=\"text-align: right;\">\n",
       "      <th></th>\n",
       "      <th>overall</th>\n",
       "      <th>verified</th>\n",
       "      <th>reviewTime</th>\n",
       "      <th>reviewerID</th>\n",
       "      <th>asin</th>\n",
       "      <th>style</th>\n",
       "      <th>reviewerName</th>\n",
       "      <th>reviewText</th>\n",
       "      <th>summary</th>\n",
       "      <th>unixReviewTime</th>\n",
       "      <th>vote</th>\n",
       "      <th>image</th>\n",
       "    </tr>\n",
       "  </thead>\n",
       "  <tbody>\n",
       "    <tr>\n",
       "      <th>0</th>\n",
       "      <td>5</td>\n",
       "      <td>True</td>\n",
       "      <td>11 9, 2012</td>\n",
       "      <td>A2M1CU2IRZG0K9</td>\n",
       "      <td>0005089549</td>\n",
       "      <td>{'Format:': ' VHS Tape'}</td>\n",
       "      <td>Terri</td>\n",
       "      <td>So sorry I didn't purchase this years ago when...</td>\n",
       "      <td>Amazing!</td>\n",
       "      <td>1352419200</td>\n",
       "      <td>NaN</td>\n",
       "      <td>NaN</td>\n",
       "    </tr>\n",
       "    <tr>\n",
       "      <th>1</th>\n",
       "      <td>5</td>\n",
       "      <td>True</td>\n",
       "      <td>12 30, 2011</td>\n",
       "      <td>AFTUJYISOFHY6</td>\n",
       "      <td>0005089549</td>\n",
       "      <td>{'Format:': ' VHS Tape'}</td>\n",
       "      <td>Melissa D. Abercrombie</td>\n",
       "      <td>Believe me when I tell you that you will recei...</td>\n",
       "      <td>Great Gospel VHS of the Cathedrals!</td>\n",
       "      <td>1325203200</td>\n",
       "      <td>NaN</td>\n",
       "      <td>NaN</td>\n",
       "    </tr>\n",
       "    <tr>\n",
       "      <th>2</th>\n",
       "      <td>5</td>\n",
       "      <td>True</td>\n",
       "      <td>04 21, 2005</td>\n",
       "      <td>A3JVF9Y53BEOGC</td>\n",
       "      <td>000503860X</td>\n",
       "      <td>{'Format:': ' DVD'}</td>\n",
       "      <td>Anthony Thompson</td>\n",
       "      <td>I have seen X live many times, both in the ear...</td>\n",
       "      <td>A great document of a great band</td>\n",
       "      <td>1114041600</td>\n",
       "      <td>11</td>\n",
       "      <td>NaN</td>\n",
       "    </tr>\n",
       "    <tr>\n",
       "      <th>3</th>\n",
       "      <td>5</td>\n",
       "      <td>True</td>\n",
       "      <td>04 6, 2005</td>\n",
       "      <td>A12VPEOEZS1KTC</td>\n",
       "      <td>000503860X</td>\n",
       "      <td>{'Format:': ' DVD'}</td>\n",
       "      <td>JadeRain</td>\n",
       "      <td>I was so excited for this!  Finally, a live co...</td>\n",
       "      <td>YES!!  X LIVE!!</td>\n",
       "      <td>1112745600</td>\n",
       "      <td>5</td>\n",
       "      <td>NaN</td>\n",
       "    </tr>\n",
       "    <tr>\n",
       "      <th>4</th>\n",
       "      <td>5</td>\n",
       "      <td>True</td>\n",
       "      <td>12 3, 2010</td>\n",
       "      <td>ATLZNVLYKP9AZ</td>\n",
       "      <td>000503860X</td>\n",
       "      <td>{'Format:': ' DVD'}</td>\n",
       "      <td>T. Fisher</td>\n",
       "      <td>X is one of the best punk bands ever. I don't ...</td>\n",
       "      <td>X have still got it</td>\n",
       "      <td>1291334400</td>\n",
       "      <td>5</td>\n",
       "      <td>NaN</td>\n",
       "    </tr>\n",
       "  </tbody>\n",
       "</table>\n",
       "</div>"
      ],
      "text/plain": [
       "   overall  verified   reviewTime      reviewerID        asin  \\\n",
       "0        5      True   11 9, 2012  A2M1CU2IRZG0K9  0005089549   \n",
       "1        5      True  12 30, 2011   AFTUJYISOFHY6  0005089549   \n",
       "2        5      True  04 21, 2005  A3JVF9Y53BEOGC  000503860X   \n",
       "3        5      True   04 6, 2005  A12VPEOEZS1KTC  000503860X   \n",
       "4        5      True   12 3, 2010   ATLZNVLYKP9AZ  000503860X   \n",
       "\n",
       "                      style            reviewerName  \\\n",
       "0  {'Format:': ' VHS Tape'}                   Terri   \n",
       "1  {'Format:': ' VHS Tape'}  Melissa D. Abercrombie   \n",
       "2       {'Format:': ' DVD'}        Anthony Thompson   \n",
       "3       {'Format:': ' DVD'}                JadeRain   \n",
       "4       {'Format:': ' DVD'}               T. Fisher   \n",
       "\n",
       "                                          reviewText  \\\n",
       "0  So sorry I didn't purchase this years ago when...   \n",
       "1  Believe me when I tell you that you will recei...   \n",
       "2  I have seen X live many times, both in the ear...   \n",
       "3  I was so excited for this!  Finally, a live co...   \n",
       "4  X is one of the best punk bands ever. I don't ...   \n",
       "\n",
       "                               summary  unixReviewTime vote image  \n",
       "0                             Amazing!      1352419200  NaN   NaN  \n",
       "1  Great Gospel VHS of the Cathedrals!      1325203200  NaN   NaN  \n",
       "2     A great document of a great band      1114041600   11   NaN  \n",
       "3                      YES!!  X LIVE!!      1112745600    5   NaN  \n",
       "4                  X have still got it      1291334400    5   NaN  "
      ]
     },
     "execution_count": 3,
     "metadata": {},
     "output_type": "execute_result"
    }
   ],
   "source": [
    "df.head(5)"
   ]
  },
  {
   "cell_type": "markdown",
   "id": "9ad87423-8eaa-4880-a157-98315762a674",
   "metadata": {},
   "source": [
    "The dataset comes with many more columns than are useful for Item recommender system and thus can be trimmed down."
   ]
  },
  {
   "cell_type": "code",
   "execution_count": 4,
   "id": "e6d803b2-8db7-4ff8-8e52-a319dc5c5d38",
   "metadata": {},
   "outputs": [],
   "source": [
    "df.drop(columns=['verified', 'reviewTime', 'style', 'reviewerName', 'reviewText', 'summary', 'unixReviewTime', 'vote', 'image'], inplace=True)"
   ]
  },
  {
   "cell_type": "markdown",
   "id": "6bb93cfa-da14-4c67-8802-48d124545aad",
   "metadata": {},
   "source": [
    "With that done we can rename the columns to names that better reflect their purpose."
   ]
  },
  {
   "cell_type": "code",
   "execution_count": 5,
   "id": "1e35274c-80c6-441f-a2ca-453d69078eb1",
   "metadata": {},
   "outputs": [
    {
     "data": {
      "text/html": [
       "<div>\n",
       "<style scoped>\n",
       "    .dataframe tbody tr th:only-of-type {\n",
       "        vertical-align: middle;\n",
       "    }\n",
       "\n",
       "    .dataframe tbody tr th {\n",
       "        vertical-align: top;\n",
       "    }\n",
       "\n",
       "    .dataframe thead th {\n",
       "        text-align: right;\n",
       "    }\n",
       "</style>\n",
       "<table border=\"1\" class=\"dataframe\">\n",
       "  <thead>\n",
       "    <tr style=\"text-align: right;\">\n",
       "      <th></th>\n",
       "      <th>rating</th>\n",
       "      <th>user_id</th>\n",
       "      <th>asin</th>\n",
       "    </tr>\n",
       "  </thead>\n",
       "  <tbody>\n",
       "    <tr>\n",
       "      <th>0</th>\n",
       "      <td>5</td>\n",
       "      <td>A2M1CU2IRZG0K9</td>\n",
       "      <td>0005089549</td>\n",
       "    </tr>\n",
       "    <tr>\n",
       "      <th>1</th>\n",
       "      <td>5</td>\n",
       "      <td>AFTUJYISOFHY6</td>\n",
       "      <td>0005089549</td>\n",
       "    </tr>\n",
       "    <tr>\n",
       "      <th>2</th>\n",
       "      <td>5</td>\n",
       "      <td>A3JVF9Y53BEOGC</td>\n",
       "      <td>000503860X</td>\n",
       "    </tr>\n",
       "    <tr>\n",
       "      <th>3</th>\n",
       "      <td>5</td>\n",
       "      <td>A12VPEOEZS1KTC</td>\n",
       "      <td>000503860X</td>\n",
       "    </tr>\n",
       "    <tr>\n",
       "      <th>4</th>\n",
       "      <td>5</td>\n",
       "      <td>ATLZNVLYKP9AZ</td>\n",
       "      <td>000503860X</td>\n",
       "    </tr>\n",
       "    <tr>\n",
       "      <th>5</th>\n",
       "      <td>5</td>\n",
       "      <td>A3TNYNA2360NPA</td>\n",
       "      <td>000503860X</td>\n",
       "    </tr>\n",
       "    <tr>\n",
       "      <th>6</th>\n",
       "      <td>5</td>\n",
       "      <td>A2LUL6PRTXE7SE</td>\n",
       "      <td>000503860X</td>\n",
       "    </tr>\n",
       "    <tr>\n",
       "      <th>7</th>\n",
       "      <td>5</td>\n",
       "      <td>A2CFV9UPFTTM10</td>\n",
       "      <td>0005419263</td>\n",
       "    </tr>\n",
       "    <tr>\n",
       "      <th>8</th>\n",
       "      <td>3</td>\n",
       "      <td>A3139J3877Y61F</td>\n",
       "      <td>0005419263</td>\n",
       "    </tr>\n",
       "    <tr>\n",
       "      <th>9</th>\n",
       "      <td>5</td>\n",
       "      <td>A2PANT8U0OJNT4</td>\n",
       "      <td>0005419263</td>\n",
       "    </tr>\n",
       "  </tbody>\n",
       "</table>\n",
       "</div>"
      ],
      "text/plain": [
       "   rating         user_id        asin\n",
       "0       5  A2M1CU2IRZG0K9  0005089549\n",
       "1       5   AFTUJYISOFHY6  0005089549\n",
       "2       5  A3JVF9Y53BEOGC  000503860X\n",
       "3       5  A12VPEOEZS1KTC  000503860X\n",
       "4       5   ATLZNVLYKP9AZ  000503860X\n",
       "5       5  A3TNYNA2360NPA  000503860X\n",
       "6       5  A2LUL6PRTXE7SE  000503860X\n",
       "7       5  A2CFV9UPFTTM10  0005419263\n",
       "8       3  A3139J3877Y61F  0005419263\n",
       "9       5  A2PANT8U0OJNT4  0005419263"
      ]
     },
     "execution_count": 5,
     "metadata": {},
     "output_type": "execute_result"
    }
   ],
   "source": [
    "df.columns = ['rating', 'user_id', 'asin']\n",
    "df.head(10)"
   ]
  },
  {
   "cell_type": "markdown",
   "id": "20b5f5e3-32cd-49ba-a2ca-0493c30d3403",
   "metadata": {},
   "source": [
    "First thing to do is to see if there are any null values in our data."
   ]
  },
  {
   "cell_type": "code",
   "execution_count": 6,
   "id": "a498f406-bfd8-4a1f-a765-e4cc99181e4a",
   "metadata": {},
   "outputs": [
    {
     "data": {
      "text/plain": [
       "False"
      ]
     },
     "execution_count": 6,
     "metadata": {},
     "output_type": "execute_result"
    }
   ],
   "source": [
    "#Checking to see if there are any null values\n",
    "df.isnull().values.any()"
   ]
  },
  {
   "cell_type": "code",
   "execution_count": 7,
   "id": "12c68086-0314-44ac-8244-a5783533588c",
   "metadata": {},
   "outputs": [
    {
     "data": {
      "text/plain": [
       "rating      int64\n",
       "user_id    object\n",
       "asin       object\n",
       "dtype: object"
      ]
     },
     "execution_count": 7,
     "metadata": {},
     "output_type": "execute_result"
    }
   ],
   "source": [
    "df.dtypes"
   ]
  },
  {
   "cell_type": "markdown",
   "id": "bccd8057-4790-4ed2-8820-96f0e58d9294",
   "metadata": {},
   "source": [
    "Now I'll check the ratings columns values to confirm that all the values are integers 1 through 5."
   ]
  },
  {
   "cell_type": "code",
   "execution_count": 8,
   "id": "29ad4a0c-7a4d-4680-9bcd-bf08b62370fd",
   "metadata": {},
   "outputs": [
    {
     "data": {
      "text/plain": [
       "array([5, 3, 4, 2, 1], dtype=int64)"
      ]
     },
     "execution_count": 8,
     "metadata": {},
     "output_type": "execute_result"
    }
   ],
   "source": [
    "df['rating'].unique()"
   ]
  },
  {
   "cell_type": "markdown",
   "id": "8508ffab-bbed-47bf-9d16-a0cccd54899e",
   "metadata": {},
   "source": [
    "Next we will check that the strings that represent the asin and user IDs don't conatain any special characters or spaces in them."
   ]
  },
  {
   "cell_type": "code",
   "execution_count": 9,
   "id": "6bbc2165-9fbd-4a95-8ec5-762f4063ba00",
   "metadata": {},
   "outputs": [
    {
     "data": {
      "text/plain": [
       "rating     False\n",
       "user_id    False\n",
       "asin       False\n",
       "dtype: bool"
      ]
     },
     "execution_count": 9,
     "metadata": {},
     "output_type": "execute_result"
    }
   ],
   "source": [
    "cols = df.astype(str).apply(lambda c: c.str.contains(r'^\\s+|\\s+$ ')).any()\n",
    "cols.head()"
   ]
  },
  {
   "cell_type": "code",
   "execution_count": 10,
   "id": "cbde4571-1c45-4b13-98b3-054df2bb9603",
   "metadata": {},
   "outputs": [],
   "source": [
    "df.to_csv('Cleaned data.csv', index=False)"
   ]
  },
  {
   "cell_type": "markdown",
   "id": "271b8d5a-d5ba-4aa2-81f3-a3e5b7ba11ad",
   "metadata": {},
   "source": [
    "### Summary\n",
    "\n",
    "The data has been imported from Amazon Review Data (2018) dataset put together by Jianmo Ni from the University of California San Diego computer science department. The dataset has been cleaned and reduced to only the neccessary information and is now ready for EDA.\n",
    "\n",
    "The columns retained are rating, user_id, and asin.\n",
    "\n",
    "Source:\n",
    "\n",
    "Justifying recommendations using distantly-labeled reviews and fined-grained aspects\n",
    "\n",
    "Jianmo Ni, Jiacheng Li, Julian McAuley\n",
    "\n",
    "Empirical Methods in Natural Language Processing (EMNLP), 2019"
   ]
  }
 ],
 "metadata": {
  "kernelspec": {
   "display_name": "Python 3 (ipykernel)",
   "language": "python",
   "name": "python3"
  },
  "language_info": {
   "codemirror_mode": {
    "name": "ipython",
    "version": 3
   },
   "file_extension": ".py",
   "mimetype": "text/x-python",
   "name": "python",
   "nbconvert_exporter": "python",
   "pygments_lexer": "ipython3",
   "version": "3.11.7"
  }
 },
 "nbformat": 4,
 "nbformat_minor": 5
}
