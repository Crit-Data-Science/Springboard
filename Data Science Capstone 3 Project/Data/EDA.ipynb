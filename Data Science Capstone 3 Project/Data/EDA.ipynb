{
 "cells": [
  {
   "cell_type": "markdown",
   "id": "2d866841-fb4c-41a3-86c0-5951be25b369",
   "metadata": {},
   "source": [
    "# Capstone 3: Exploratory Data Analysis \n",
    "### By Joshua Dytko"
   ]
  },
  {
   "cell_type": "code",
   "execution_count": 1,
   "id": "1dd563e1-4343-42a8-a8e1-fe48b202baa3",
   "metadata": {},
   "outputs": [],
   "source": [
    "import pandas as pd\n",
    "import numpy as np\n",
    "import matplotlib.pyplot as plt\n",
    "import matplotlib.ticker as ticker\n",
    "import seaborn as sns"
   ]
  },
  {
   "cell_type": "markdown",
   "id": "c1746a4e-eee2-447d-98cc-c4ab00716294",
   "metadata": {},
   "source": [
    "We'll start by importing our cleand data from the data wrangling notebook"
   ]
  },
  {
   "cell_type": "code",
   "execution_count": 2,
   "id": "e47c8ec3-9c11-4883-97ab-1cc75ebff76b",
   "metadata": {},
   "outputs": [],
   "source": [
    "df = pd.read_csv('Cleaned data.csv', index_col = False)"
   ]
  },
  {
   "cell_type": "code",
   "execution_count": 3,
   "id": "59fd3a19-ed69-4844-9dcf-2754d9517ac8",
   "metadata": {},
   "outputs": [
    {
     "data": {
      "text/html": [
       "<div>\n",
       "<style scoped>\n",
       "    .dataframe tbody tr th:only-of-type {\n",
       "        vertical-align: middle;\n",
       "    }\n",
       "\n",
       "    .dataframe tbody tr th {\n",
       "        vertical-align: top;\n",
       "    }\n",
       "\n",
       "    .dataframe thead th {\n",
       "        text-align: right;\n",
       "    }\n",
       "</style>\n",
       "<table border=\"1\" class=\"dataframe\">\n",
       "  <thead>\n",
       "    <tr style=\"text-align: right;\">\n",
       "      <th></th>\n",
       "      <th>rating</th>\n",
       "      <th>user_id</th>\n",
       "      <th>asin</th>\n",
       "    </tr>\n",
       "  </thead>\n",
       "  <tbody>\n",
       "    <tr>\n",
       "      <th>0</th>\n",
       "      <td>5</td>\n",
       "      <td>A2M1CU2IRZG0K9</td>\n",
       "      <td>0005089549</td>\n",
       "    </tr>\n",
       "    <tr>\n",
       "      <th>1</th>\n",
       "      <td>5</td>\n",
       "      <td>AFTUJYISOFHY6</td>\n",
       "      <td>0005089549</td>\n",
       "    </tr>\n",
       "    <tr>\n",
       "      <th>2</th>\n",
       "      <td>5</td>\n",
       "      <td>A3JVF9Y53BEOGC</td>\n",
       "      <td>000503860X</td>\n",
       "    </tr>\n",
       "    <tr>\n",
       "      <th>3</th>\n",
       "      <td>5</td>\n",
       "      <td>A12VPEOEZS1KTC</td>\n",
       "      <td>000503860X</td>\n",
       "    </tr>\n",
       "    <tr>\n",
       "      <th>4</th>\n",
       "      <td>5</td>\n",
       "      <td>ATLZNVLYKP9AZ</td>\n",
       "      <td>000503860X</td>\n",
       "    </tr>\n",
       "  </tbody>\n",
       "</table>\n",
       "</div>"
      ],
      "text/plain": [
       "   rating         user_id        asin\n",
       "0       5  A2M1CU2IRZG0K9  0005089549\n",
       "1       5   AFTUJYISOFHY6  0005089549\n",
       "2       5  A3JVF9Y53BEOGC  000503860X\n",
       "3       5  A12VPEOEZS1KTC  000503860X\n",
       "4       5   ATLZNVLYKP9AZ  000503860X"
      ]
     },
     "execution_count": 3,
     "metadata": {},
     "output_type": "execute_result"
    }
   ],
   "source": [
    "df.head()"
   ]
  },
  {
   "cell_type": "markdown",
   "id": "ee60907f-0cbb-453a-9712-30962456de24",
   "metadata": {},
   "source": [
    "Lets start by checking some of the statistics of our data such as total number of ratings, total number of users and products, as well as the average number of ratings per user and ratings per asin."
   ]
  },
  {
   "cell_type": "code",
   "execution_count": 4,
   "id": "04c35b35-2dba-424f-a578-d238fb48976b",
   "metadata": {},
   "outputs": [
    {
     "name": "stdout",
     "output_type": "stream",
     "text": [
      "Number of ratings: 3410019\n",
      "Number of users: 297529\n",
      "Number of products: 60175\n",
      "Averae number of ratings per user: 11.461131519952676\n",
      "Average numer of ratings per asin: 56.66836726215206\n"
     ]
    }
   ],
   "source": [
    "n_ratings = len(df)\n",
    "n_users = df['user_id'].nunique()\n",
    "n_asin = df['asin'].nunique()\n",
    "\n",
    "print(f'Number of ratings: {n_ratings}')\n",
    "print(f'Number of users: {n_users}')\n",
    "print(f'Number of products: {n_asin}')\n",
    "print(f'Averae number of ratings per user: {n_ratings/n_users}')\n",
    "print(f'Average numer of ratings per asin: {n_ratings/n_asin}')"
   ]
  },
  {
   "cell_type": "markdown",
   "id": "5deeead1-7a44-434b-89e1-3bf7890642ca",
   "metadata": {},
   "source": [
    "Next we will aggregate our data into a groupby dataframe aggregating the ratings mean and count for each user"
   ]
  },
  {
   "cell_type": "code",
   "execution_count": 5,
   "id": "ffe21a75-851e-4d97-9b0a-dd26771c3bdc",
   "metadata": {},
   "outputs": [
    {
     "name": "stdout",
     "output_type": "stream",
     "text": [
      "Mean rating per user:\n",
      "mean      4.26\n",
      "count    11.46\n",
      "dtype: float64\n"
     ]
    }
   ],
   "source": [
    "df_groupby = df.groupby(by='user_id')['rating'].agg(['mean', 'count'])\n",
    "print(f'Mean rating per user:\\n{round(df_groupby.mean(),2)}')"
   ]
  },
  {
   "cell_type": "code",
   "execution_count": 6,
   "id": "5bef3d8e-ebd3-4b2e-9407-7d769affee98",
   "metadata": {},
   "outputs": [
    {
     "data": {
      "text/html": [
       "<div>\n",
       "<style scoped>\n",
       "    .dataframe tbody tr th:only-of-type {\n",
       "        vertical-align: middle;\n",
       "    }\n",
       "\n",
       "    .dataframe tbody tr th {\n",
       "        vertical-align: top;\n",
       "    }\n",
       "\n",
       "    .dataframe thead th {\n",
       "        text-align: right;\n",
       "    }\n",
       "</style>\n",
       "<table border=\"1\" class=\"dataframe\">\n",
       "  <thead>\n",
       "    <tr style=\"text-align: right;\">\n",
       "      <th></th>\n",
       "      <th>mean</th>\n",
       "      <th>count</th>\n",
       "    </tr>\n",
       "    <tr>\n",
       "      <th>user_id</th>\n",
       "      <th></th>\n",
       "      <th></th>\n",
       "    </tr>\n",
       "  </thead>\n",
       "  <tbody>\n",
       "    <tr>\n",
       "      <th>A0009988MRFQ3TROTQPI</th>\n",
       "      <td>5.000000</td>\n",
       "      <td>8</td>\n",
       "    </tr>\n",
       "    <tr>\n",
       "      <th>A00311542N70JGNHUZPI</th>\n",
       "      <td>5.000000</td>\n",
       "      <td>5</td>\n",
       "    </tr>\n",
       "    <tr>\n",
       "      <th>A0040548BPHKXMHH3NTI</th>\n",
       "      <td>3.846154</td>\n",
       "      <td>13</td>\n",
       "    </tr>\n",
       "    <tr>\n",
       "      <th>A0045750NMY09KVSTE01</th>\n",
       "      <td>5.000000</td>\n",
       "      <td>10</td>\n",
       "    </tr>\n",
       "    <tr>\n",
       "      <th>A0048168OBFNFN7WW8XC</th>\n",
       "      <td>5.000000</td>\n",
       "      <td>5</td>\n",
       "    </tr>\n",
       "  </tbody>\n",
       "</table>\n",
       "</div>"
      ],
      "text/plain": [
       "                          mean  count\n",
       "user_id                              \n",
       "A0009988MRFQ3TROTQPI  5.000000      8\n",
       "A00311542N70JGNHUZPI  5.000000      5\n",
       "A0040548BPHKXMHH3NTI  3.846154     13\n",
       "A0045750NMY09KVSTE01  5.000000     10\n",
       "A0048168OBFNFN7WW8XC  5.000000      5"
      ]
     },
     "execution_count": 6,
     "metadata": {},
     "output_type": "execute_result"
    }
   ],
   "source": [
    "df_groupby.head()"
   ]
  },
  {
   "cell_type": "code",
   "execution_count": 7,
   "id": "0d9492ee-ffe1-4ec9-aaaa-a9946853c605",
   "metadata": {},
   "outputs": [],
   "source": [
    "df_groupby.reset_index(inplace=True)"
   ]
  },
  {
   "cell_type": "code",
   "execution_count": 8,
   "id": "cfe9a02c-6007-44af-b4cc-479f94bd9f04",
   "metadata": {},
   "outputs": [
    {
     "data": {
      "text/html": [
       "<div>\n",
       "<style scoped>\n",
       "    .dataframe tbody tr th:only-of-type {\n",
       "        vertical-align: middle;\n",
       "    }\n",
       "\n",
       "    .dataframe tbody tr th {\n",
       "        vertical-align: top;\n",
       "    }\n",
       "\n",
       "    .dataframe thead th {\n",
       "        text-align: right;\n",
       "    }\n",
       "</style>\n",
       "<table border=\"1\" class=\"dataframe\">\n",
       "  <thead>\n",
       "    <tr style=\"text-align: right;\">\n",
       "      <th></th>\n",
       "      <th>user_id</th>\n",
       "      <th>mean</th>\n",
       "      <th>count</th>\n",
       "    </tr>\n",
       "  </thead>\n",
       "  <tbody>\n",
       "    <tr>\n",
       "      <th>0</th>\n",
       "      <td>A0009988MRFQ3TROTQPI</td>\n",
       "      <td>5.000000</td>\n",
       "      <td>8</td>\n",
       "    </tr>\n",
       "    <tr>\n",
       "      <th>1</th>\n",
       "      <td>A00311542N70JGNHUZPI</td>\n",
       "      <td>5.000000</td>\n",
       "      <td>5</td>\n",
       "    </tr>\n",
       "    <tr>\n",
       "      <th>2</th>\n",
       "      <td>A0040548BPHKXMHH3NTI</td>\n",
       "      <td>3.846154</td>\n",
       "      <td>13</td>\n",
       "    </tr>\n",
       "    <tr>\n",
       "      <th>3</th>\n",
       "      <td>A0045750NMY09KVSTE01</td>\n",
       "      <td>5.000000</td>\n",
       "      <td>10</td>\n",
       "    </tr>\n",
       "    <tr>\n",
       "      <th>4</th>\n",
       "      <td>A0048168OBFNFN7WW8XC</td>\n",
       "      <td>5.000000</td>\n",
       "      <td>5</td>\n",
       "    </tr>\n",
       "  </tbody>\n",
       "</table>\n",
       "</div>"
      ],
      "text/plain": [
       "                user_id      mean  count\n",
       "0  A0009988MRFQ3TROTQPI  5.000000      8\n",
       "1  A00311542N70JGNHUZPI  5.000000      5\n",
       "2  A0040548BPHKXMHH3NTI  3.846154     13\n",
       "3  A0045750NMY09KVSTE01  5.000000     10\n",
       "4  A0048168OBFNFN7WW8XC  5.000000      5"
      ]
     },
     "execution_count": 8,
     "metadata": {},
     "output_type": "execute_result"
    }
   ],
   "source": [
    "df_groupby.head()"
   ]
  },
  {
   "cell_type": "code",
   "execution_count": 9,
   "id": "4d9e85e0-2398-4d23-811d-049a95b43097",
   "metadata": {},
   "outputs": [
    {
     "data": {
      "text/plain": [
       "count    297529.000000\n",
       "mean         11.461132\n",
       "std          24.909173\n",
       "min           1.000000\n",
       "25%           5.000000\n",
       "50%           7.000000\n",
       "75%          11.000000\n",
       "max        3509.000000\n",
       "Name: count, dtype: float64"
      ]
     },
     "execution_count": 9,
     "metadata": {},
     "output_type": "execute_result"
    }
   ],
   "source": [
    "df_groupby['count'].describe()"
   ]
  },
  {
   "cell_type": "code",
   "execution_count": 10,
   "id": "ab9c6fbf-1bfd-430c-b5f0-6c626ca3fd74",
   "metadata": {},
   "outputs": [],
   "source": [
    "d = pd.DataFrame(df_groupby['count'].value_counts())"
   ]
  },
  {
   "cell_type": "code",
   "execution_count": 11,
   "id": "1aa42e93-e64e-4454-9b37-5a05609d7447",
   "metadata": {},
   "outputs": [
    {
     "data": {
      "text/html": [
       "<div>\n",
       "<style scoped>\n",
       "    .dataframe tbody tr th:only-of-type {\n",
       "        vertical-align: middle;\n",
       "    }\n",
       "\n",
       "    .dataframe tbody tr th {\n",
       "        vertical-align: top;\n",
       "    }\n",
       "\n",
       "    .dataframe thead th {\n",
       "        text-align: right;\n",
       "    }\n",
       "</style>\n",
       "<table border=\"1\" class=\"dataframe\">\n",
       "  <thead>\n",
       "    <tr style=\"text-align: right;\">\n",
       "      <th></th>\n",
       "      <th>count</th>\n",
       "    </tr>\n",
       "    <tr>\n",
       "      <th>count</th>\n",
       "      <th></th>\n",
       "    </tr>\n",
       "  </thead>\n",
       "  <tbody>\n",
       "    <tr>\n",
       "      <th>5</th>\n",
       "      <td>78518</td>\n",
       "    </tr>\n",
       "    <tr>\n",
       "      <th>6</th>\n",
       "      <td>49884</td>\n",
       "    </tr>\n",
       "    <tr>\n",
       "      <th>7</th>\n",
       "      <td>33798</td>\n",
       "    </tr>\n",
       "    <tr>\n",
       "      <th>8</th>\n",
       "      <td>24333</td>\n",
       "    </tr>\n",
       "    <tr>\n",
       "      <th>9</th>\n",
       "      <td>18047</td>\n",
       "    </tr>\n",
       "  </tbody>\n",
       "</table>\n",
       "</div>"
      ],
      "text/plain": [
       "       count\n",
       "count       \n",
       "5      78518\n",
       "6      49884\n",
       "7      33798\n",
       "8      24333\n",
       "9      18047"
      ]
     },
     "execution_count": 11,
     "metadata": {},
     "output_type": "execute_result"
    }
   ],
   "source": [
    "d.head()"
   ]
  },
  {
   "cell_type": "code",
   "execution_count": 12,
   "id": "4053f1c2-49d1-4316-b3e0-e054ba855b5a",
   "metadata": {},
   "outputs": [],
   "source": [
    "df_groupby_rating = df.groupby(by='rating').count()"
   ]
  },
  {
   "cell_type": "code",
   "execution_count": 13,
   "id": "7f99a11a-7332-49c9-801f-3c15108e70ac",
   "metadata": {},
   "outputs": [
    {
     "data": {
      "text/html": [
       "<div>\n",
       "<style scoped>\n",
       "    .dataframe tbody tr th:only-of-type {\n",
       "        vertical-align: middle;\n",
       "    }\n",
       "\n",
       "    .dataframe tbody tr th {\n",
       "        vertical-align: top;\n",
       "    }\n",
       "\n",
       "    .dataframe thead th {\n",
       "        text-align: right;\n",
       "    }\n",
       "</style>\n",
       "<table border=\"1\" class=\"dataframe\">\n",
       "  <thead>\n",
       "    <tr style=\"text-align: right;\">\n",
       "      <th></th>\n",
       "      <th>user_id</th>\n",
       "      <th>asin</th>\n",
       "    </tr>\n",
       "    <tr>\n",
       "      <th>rating</th>\n",
       "      <th></th>\n",
       "      <th></th>\n",
       "    </tr>\n",
       "  </thead>\n",
       "  <tbody>\n",
       "    <tr>\n",
       "      <th>1</th>\n",
       "      <td>193169</td>\n",
       "      <td>193169</td>\n",
       "    </tr>\n",
       "    <tr>\n",
       "      <th>2</th>\n",
       "      <td>172439</td>\n",
       "      <td>172439</td>\n",
       "    </tr>\n",
       "    <tr>\n",
       "      <th>3</th>\n",
       "      <td>349700</td>\n",
       "      <td>349700</td>\n",
       "    </tr>\n",
       "    <tr>\n",
       "      <th>4</th>\n",
       "      <td>665920</td>\n",
       "      <td>665920</td>\n",
       "    </tr>\n",
       "    <tr>\n",
       "      <th>5</th>\n",
       "      <td>2028791</td>\n",
       "      <td>2028791</td>\n",
       "    </tr>\n",
       "  </tbody>\n",
       "</table>\n",
       "</div>"
      ],
      "text/plain": [
       "        user_id     asin\n",
       "rating                  \n",
       "1        193169   193169\n",
       "2        172439   172439\n",
       "3        349700   349700\n",
       "4        665920   665920\n",
       "5       2028791  2028791"
      ]
     },
     "execution_count": 13,
     "metadata": {},
     "output_type": "execute_result"
    }
   ],
   "source": [
    "df_groupby_rating.head()"
   ]
  },
  {
   "cell_type": "code",
   "execution_count": 14,
   "id": "949a50a0-549f-4c9b-9814-deaa3f6cd1f3",
   "metadata": {},
   "outputs": [
    {
     "data": {
      "image/png": "[encoded data removed]",
      "text/plain": [
       "<Figure size 640x480 with 1 Axes>"
      ]
     },
     "metadata": {},
     "output_type": "display_data"
    }
   ],
   "source": [
    "\n",
    "ax = df_groupby_rating['user_id'].plot(kind='bar')\n",
    "\n",
    "def thousands_formatter(x, pos):\n",
    "    return f'{int(x/1000)}k'\n",
    "\n",
    "# Apply formatter\n",
    "ax.yaxis.set_major_formatter(ticker.FuncFormatter(thousands_formatter))\n",
    "ax.set_ylabel('Count (Thousands)')\n",
    "ax.set_title('Counts by Rating')\n",
    "ax.set_xlabel('rating')\n",
    "\n",
    "plt.tight_layout()\n",
    "plt.show()"
   ]
  },
  {
   "cell_type": "raw",
   "id": "e40c1d2c-3ba1-4b4f-ae52-40e25d417c13",
   "metadata": {},
   "source": [
    "There are more 5 star reviews than all other ratings combined. There are almost as mant 4 star reviews as 1, 2, and 3 star reviews."
   ]
  },
  {
   "cell_type": "code",
   "execution_count": 15,
   "id": "b8871a2f-492c-43ff-bbf8-c24a414a27e4",
   "metadata": {},
   "outputs": [
    {
     "data": {
      "image/png": "[encoded data removed]",
      "text/plain": [
       "<Figure size 2000x600 with 1 Axes>"
      ]
     },
     "metadata": {},
     "output_type": "display_data"
    }
   ],
   "source": [
    "numbers = list(range(0, 1001, 10))\n",
    "ax = df_groupby['count'].plot(kind='hist', bins=numbers, figsize=(20, 6), edgecolor='black', rwidth=20\n",
    "                             ) #logx=True)\n",
    "\n",
    "ax.set_xticks([10, 20, 30, 40, 50, 60, 70, 80, 90,100, 1000, 10000])\n",
    "ax.set_xlim(0,200)\n",
    "\n",
    "# Set labels and title\n",
    "ax.set_xlabel('Number of Reviews (Counts)')\n",
    "ax.set_ylabel('Frequency')\n",
    "ax.set_title('Histogram of Review Counts per User')\n",
    "\n",
    "\n",
    "# Optional: Improve layout\n",
    "plt.tight_layout()\n",
    "\n",
    "# Show the plot\n",
    "plt.show()"
   ]
  },
  {
   "cell_type": "markdown",
   "id": "022c8e79-c69d-4a3b-9b52-edd487e379b1",
   "metadata": {},
   "source": [
    "the vast majority of users have less than 10 reviews with very few of them having more than 50."
   ]
  },
  {
   "cell_type": "code",
   "execution_count": 16,
   "id": "8460574e-5253-4b93-918b-b4274fe9856a",
   "metadata": {},
   "outputs": [
    {
     "name": "stdout",
     "output_type": "stream",
     "text": [
      "Mean rating per asin:\n",
      "mean      4.13\n",
      "count    56.67\n",
      "dtype: float64\n"
     ]
    }
   ],
   "source": [
    "df_groupby = df.groupby(by='asin')['rating'].agg(['mean', 'count'])\n",
    "print(f'Mean rating per asin:\\n{round(df_groupby.mean(),2)}')"
   ]
  },
  {
   "cell_type": "code",
   "execution_count": 17,
   "id": "30e440de-fbf5-4aae-8f8b-2f02326cb046",
   "metadata": {},
   "outputs": [
    {
     "data": {
      "text/html": [
       "<div>\n",
       "<style scoped>\n",
       "    .dataframe tbody tr th:only-of-type {\n",
       "        vertical-align: middle;\n",
       "    }\n",
       "\n",
       "    .dataframe tbody tr th {\n",
       "        vertical-align: top;\n",
       "    }\n",
       "\n",
       "    .dataframe thead th {\n",
       "        text-align: right;\n",
       "    }\n",
       "</style>\n",
       "<table border=\"1\" class=\"dataframe\">\n",
       "  <thead>\n",
       "    <tr style=\"text-align: right;\">\n",
       "      <th></th>\n",
       "      <th>mean</th>\n",
       "      <th>count</th>\n",
       "    </tr>\n",
       "    <tr>\n",
       "      <th>asin</th>\n",
       "      <th></th>\n",
       "      <th></th>\n",
       "    </tr>\n",
       "  </thead>\n",
       "  <tbody>\n",
       "    <tr>\n",
       "      <th>0000143588</th>\n",
       "      <td>5.000000</td>\n",
       "      <td>5</td>\n",
       "    </tr>\n",
       "    <tr>\n",
       "      <th>0001526863</th>\n",
       "      <td>4.928571</td>\n",
       "      <td>14</td>\n",
       "    </tr>\n",
       "    <tr>\n",
       "      <th>0005000009</th>\n",
       "      <td>4.046512</td>\n",
       "      <td>43</td>\n",
       "    </tr>\n",
       "    <tr>\n",
       "      <th>0005019281</th>\n",
       "      <td>4.425743</td>\n",
       "      <td>303</td>\n",
       "    </tr>\n",
       "    <tr>\n",
       "      <th>000503860X</th>\n",
       "      <td>4.666667</td>\n",
       "      <td>9</td>\n",
       "    </tr>\n",
       "    <tr>\n",
       "      <th>...</th>\n",
       "      <td>...</td>\n",
       "      <td>...</td>\n",
       "    </tr>\n",
       "    <tr>\n",
       "      <th>B01HHGAKEU</th>\n",
       "      <td>4.859813</td>\n",
       "      <td>107</td>\n",
       "    </tr>\n",
       "    <tr>\n",
       "      <th>B01HHRHDAI</th>\n",
       "      <td>4.625000</td>\n",
       "      <td>48</td>\n",
       "    </tr>\n",
       "    <tr>\n",
       "      <th>B01HIQ3TO2</th>\n",
       "      <td>4.250000</td>\n",
       "      <td>36</td>\n",
       "    </tr>\n",
       "    <tr>\n",
       "      <th>B01HIUL6WU</th>\n",
       "      <td>4.757576</td>\n",
       "      <td>33</td>\n",
       "    </tr>\n",
       "    <tr>\n",
       "      <th>B01HJ1INB0</th>\n",
       "      <td>4.461538</td>\n",
       "      <td>13</td>\n",
       "    </tr>\n",
       "  </tbody>\n",
       "</table>\n",
       "<p>60175 rows × 2 columns</p>\n",
       "</div>"
      ],
      "text/plain": [
       "                mean  count\n",
       "asin                       \n",
       "0000143588  5.000000      5\n",
       "0001526863  4.928571     14\n",
       "0005000009  4.046512     43\n",
       "0005019281  4.425743    303\n",
       "000503860X  4.666667      9\n",
       "...              ...    ...\n",
       "B01HHGAKEU  4.859813    107\n",
       "B01HHRHDAI  4.625000     48\n",
       "B01HIQ3TO2  4.250000     36\n",
       "B01HIUL6WU  4.757576     33\n",
       "B01HJ1INB0  4.461538     13\n",
       "\n",
       "[60175 rows x 2 columns]"
      ]
     },
     "execution_count": 17,
     "metadata": {},
     "output_type": "execute_result"
    }
   ],
   "source": [
    "df_groupby"
   ]
  },
  {
   "cell_type": "code",
   "execution_count": 18,
   "id": "3ad4a589-a446-4455-a936-3e96400ee8b2",
   "metadata": {},
   "outputs": [
    {
     "data": {
      "image/png": "[encoded data removed]",
      "text/plain": [
       "<Figure size 2000x600 with 1 Axes>"
      ]
     },
     "metadata": {},
     "output_type": "display_data"
    }
   ],
   "source": [
    "numbers = list(range(0, 1001, 10))\n",
    "ax = df_groupby['count'].plot(kind='hist', bins=numbers, figsize=(20, 6), edgecolor='black', rwidth=20\n",
    "                             ) #logx=True)\n",
    "\n",
    "ax.set_xticks([10, 20, 30, 40, 50, 60, 70, 80, 90, 110, 120, 130, 140, 150, 160, 170, 180, 190, 200])\n",
    "ax.set_xlim(0,200)\n",
    "\n",
    "# Set labels and title\n",
    "ax.set_xlabel('Number of Reviews (Counts)')\n",
    "ax.set_ylabel('Frequency')\n",
    "ax.set_title('Histogram of Review Counts per asin')\n",
    "\n",
    "\n",
    "# Optional: Improve layout\n",
    "plt.tight_layout()\n",
    "\n",
    "# Show the plot\n",
    "plt.show()"
   ]
  },
  {
   "cell_type": "markdown",
   "id": "cb12bbaa-04a3-4632-ad69-98700196c29e",
   "metadata": {},
   "source": [
    "Contrasting with the user reviews where the majority of user's have less than 10 reviews, most asin have less than 20 reviews with there still being a sizable poulation from 20 to 50 reviews with a steady drop off going higher."
   ]
  },
  {
   "cell_type": "markdown",
   "id": "6669e78b-f8ce-4bd6-bb0a-59df230b9ed5",
   "metadata": {},
   "source": [
    "To build our item recommendation system I'll test multiple models. All the models will be collaberative based filtering because we do not have access the necessary data points in this data set for content-based filtering."
   ]
  }
 ],
 "metadata": {
  "kernelspec": {
   "display_name": "Python 3 (ipykernel)",
   "language": "python",
   "name": "python3"
  },
  "language_info": {
   "codemirror_mode": {
    "name": "ipython",
    "version": 3
   },
   "file_extension": ".py",
   "mimetype": "text/x-python",
   "name": "python",
   "nbconvert_exporter": "python",
   "pygments_lexer": "ipython3",
   "version": "3.11.7"
  }
 },
 "nbformat": 4,
 "nbformat_minor": 5
}
