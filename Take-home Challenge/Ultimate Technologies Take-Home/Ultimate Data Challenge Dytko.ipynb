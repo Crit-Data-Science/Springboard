{
 "cells": [
  {
   "cell_type": "markdown",
   "id": "47b77b52-5320-4b31-91c9-955e92ed295e",
   "metadata": {},
   "source": [
    "# 1. EDA"
   ]
  },
  {
   "cell_type": "code",
   "execution_count": 1,
   "id": "a9386ebf-d891-433e-ad40-3271e8e2c5db",
   "metadata": {},
   "outputs": [],
   "source": [
    "#Imports for EDA\n",
    "import pandas as pd\n",
    "import numpy as np\n",
    "import datetime as dt\n",
    "import matplotlib.pyplot as plt\n",
    "import seaborn as sn"
   ]
  },
  {
   "cell_type": "code",
   "execution_count": 2,
   "id": "1e9d9cbc-ac4b-4e62-8fff-47983dfb3dfd",
   "metadata": {},
   "outputs": [],
   "source": [
    "#Read data\n",
    "df = pd.read_json('ultimate_data_challenge.json')"
   ]
  },
  {
   "cell_type": "code",
   "execution_count": 3,
   "id": "2407f0e0-528e-472a-ac0d-53652d81fddb",
   "metadata": {},
   "outputs": [
    {
     "name": "stdout",
     "output_type": "stream",
     "text": [
      "<class 'pandas.core.frame.DataFrame'>\n",
      "RangeIndex: 50000 entries, 0 to 49999\n",
      "Data columns (total 12 columns):\n",
      " #   Column                  Non-Null Count  Dtype  \n",
      "---  ------                  --------------  -----  \n",
      " 0   city                    50000 non-null  object \n",
      " 1   trips_in_first_30_days  50000 non-null  int64  \n",
      " 2   signup_date             50000 non-null  object \n",
      " 3   avg_rating_of_driver    41878 non-null  float64\n",
      " 4   avg_surge               50000 non-null  float64\n",
      " 5   last_trip_date          50000 non-null  object \n",
      " 6   phone                   49604 non-null  object \n",
      " 7   surge_pct               50000 non-null  float64\n",
      " 8   ultimate_black_user     50000 non-null  bool   \n",
      " 9   weekday_pct             50000 non-null  float64\n",
      " 10  avg_dist                50000 non-null  float64\n",
      " 11  avg_rating_by_driver    49799 non-null  float64\n",
      "dtypes: bool(1), float64(6), int64(1), object(4)\n",
      "memory usage: 4.2+ MB\n"
     ]
    }
   ],
   "source": [
    "df.info()"
   ]
  },
  {
   "cell_type": "code",
   "execution_count": 4,
   "id": "afa49f59-e936-4593-9d9d-58a16066f12d",
   "metadata": {},
   "outputs": [],
   "source": [
    "#Set date columns dtypes\n",
    "df['signup_date'] = pd.to_datetime(df['signup_date'])\n",
    "df['last_trip_date'] = pd.to_datetime(df['last_trip_date'])"
   ]
  },
  {
   "cell_type": "code",
   "execution_count": 5,
   "id": "0973ccb9-395f-4058-aa25-40bf902a1604",
   "metadata": {},
   "outputs": [
    {
     "data": {
      "text/html": [
       "<div>\n",
       "<style scoped>\n",
       "    .dataframe tbody tr th:only-of-type {\n",
       "        vertical-align: middle;\n",
       "    }\n",
       "\n",
       "    .dataframe tbody tr th {\n",
       "        vertical-align: top;\n",
       "    }\n",
       "\n",
       "    .dataframe thead th {\n",
       "        text-align: right;\n",
       "    }\n",
       "</style>\n",
       "<table border=\"1\" class=\"dataframe\">\n",
       "  <thead>\n",
       "    <tr style=\"text-align: right;\">\n",
       "      <th></th>\n",
       "      <th>trips_in_first_30_days</th>\n",
       "      <th>signup_date</th>\n",
       "      <th>avg_rating_of_driver</th>\n",
       "      <th>avg_surge</th>\n",
       "      <th>last_trip_date</th>\n",
       "      <th>surge_pct</th>\n",
       "      <th>weekday_pct</th>\n",
       "      <th>avg_dist</th>\n",
       "      <th>avg_rating_by_driver</th>\n",
       "    </tr>\n",
       "  </thead>\n",
       "  <tbody>\n",
       "    <tr>\n",
       "      <th>count</th>\n",
       "      <td>50000.000000</td>\n",
       "      <td>50000</td>\n",
       "      <td>41878.000000</td>\n",
       "      <td>50000.000000</td>\n",
       "      <td>50000</td>\n",
       "      <td>50000.000000</td>\n",
       "      <td>50000.000000</td>\n",
       "      <td>50000.000000</td>\n",
       "      <td>49799.000000</td>\n",
       "    </tr>\n",
       "    <tr>\n",
       "      <th>mean</th>\n",
       "      <td>2.278200</td>\n",
       "      <td>2014-01-16 13:04:20.352000</td>\n",
       "      <td>4.601559</td>\n",
       "      <td>1.074764</td>\n",
       "      <td>2014-04-19 08:02:04.992000256</td>\n",
       "      <td>8.849536</td>\n",
       "      <td>60.926084</td>\n",
       "      <td>5.796827</td>\n",
       "      <td>4.778158</td>\n",
       "    </tr>\n",
       "    <tr>\n",
       "      <th>min</th>\n",
       "      <td>0.000000</td>\n",
       "      <td>2014-01-01 00:00:00</td>\n",
       "      <td>1.000000</td>\n",
       "      <td>1.000000</td>\n",
       "      <td>2014-01-01 00:00:00</td>\n",
       "      <td>0.000000</td>\n",
       "      <td>0.000000</td>\n",
       "      <td>0.000000</td>\n",
       "      <td>1.000000</td>\n",
       "    </tr>\n",
       "    <tr>\n",
       "      <th>25%</th>\n",
       "      <td>0.000000</td>\n",
       "      <td>2014-01-09 00:00:00</td>\n",
       "      <td>4.300000</td>\n",
       "      <td>1.000000</td>\n",
       "      <td>2014-02-14 00:00:00</td>\n",
       "      <td>0.000000</td>\n",
       "      <td>33.300000</td>\n",
       "      <td>2.420000</td>\n",
       "      <td>4.700000</td>\n",
       "    </tr>\n",
       "    <tr>\n",
       "      <th>50%</th>\n",
       "      <td>1.000000</td>\n",
       "      <td>2014-01-17 00:00:00</td>\n",
       "      <td>4.900000</td>\n",
       "      <td>1.000000</td>\n",
       "      <td>2014-05-08 00:00:00</td>\n",
       "      <td>0.000000</td>\n",
       "      <td>66.700000</td>\n",
       "      <td>3.880000</td>\n",
       "      <td>5.000000</td>\n",
       "    </tr>\n",
       "    <tr>\n",
       "      <th>75%</th>\n",
       "      <td>3.000000</td>\n",
       "      <td>2014-01-24 00:00:00</td>\n",
       "      <td>5.000000</td>\n",
       "      <td>1.050000</td>\n",
       "      <td>2014-06-18 00:00:00</td>\n",
       "      <td>8.600000</td>\n",
       "      <td>100.000000</td>\n",
       "      <td>6.940000</td>\n",
       "      <td>5.000000</td>\n",
       "    </tr>\n",
       "    <tr>\n",
       "      <th>max</th>\n",
       "      <td>125.000000</td>\n",
       "      <td>2014-01-31 00:00:00</td>\n",
       "      <td>5.000000</td>\n",
       "      <td>8.000000</td>\n",
       "      <td>2014-07-01 00:00:00</td>\n",
       "      <td>100.000000</td>\n",
       "      <td>100.000000</td>\n",
       "      <td>160.960000</td>\n",
       "      <td>5.000000</td>\n",
       "    </tr>\n",
       "    <tr>\n",
       "      <th>std</th>\n",
       "      <td>3.792684</td>\n",
       "      <td>NaN</td>\n",
       "      <td>0.617338</td>\n",
       "      <td>0.222336</td>\n",
       "      <td>NaN</td>\n",
       "      <td>19.958811</td>\n",
       "      <td>37.081503</td>\n",
       "      <td>5.707357</td>\n",
       "      <td>0.446652</td>\n",
       "    </tr>\n",
       "  </tbody>\n",
       "</table>\n",
       "</div>"
      ],
      "text/plain": [
       "       trips_in_first_30_days                 signup_date  \\\n",
       "count            50000.000000                       50000   \n",
       "mean                 2.278200  2014-01-16 13:04:20.352000   \n",
       "min                  0.000000         2014-01-01 00:00:00   \n",
       "25%                  0.000000         2014-01-09 00:00:00   \n",
       "50%                  1.000000         2014-01-17 00:00:00   \n",
       "75%                  3.000000         2014-01-24 00:00:00   \n",
       "max                125.000000         2014-01-31 00:00:00   \n",
       "std                  3.792684                         NaN   \n",
       "\n",
       "       avg_rating_of_driver     avg_surge                 last_trip_date  \\\n",
       "count          41878.000000  50000.000000                          50000   \n",
       "mean               4.601559      1.074764  2014-04-19 08:02:04.992000256   \n",
       "min                1.000000      1.000000            2014-01-01 00:00:00   \n",
       "25%                4.300000      1.000000            2014-02-14 00:00:00   \n",
       "50%                4.900000      1.000000            2014-05-08 00:00:00   \n",
       "75%                5.000000      1.050000            2014-06-18 00:00:00   \n",
       "max                5.000000      8.000000            2014-07-01 00:00:00   \n",
       "std                0.617338      0.222336                            NaN   \n",
       "\n",
       "          surge_pct   weekday_pct      avg_dist  avg_rating_by_driver  \n",
       "count  50000.000000  50000.000000  50000.000000          49799.000000  \n",
       "mean       8.849536     60.926084      5.796827              4.778158  \n",
       "min        0.000000      0.000000      0.000000              1.000000  \n",
       "25%        0.000000     33.300000      2.420000              4.700000  \n",
       "50%        0.000000     66.700000      3.880000              5.000000  \n",
       "75%        8.600000    100.000000      6.940000              5.000000  \n",
       "max      100.000000    100.000000    160.960000              5.000000  \n",
       "std       19.958811     37.081503      5.707357              0.446652  "
      ]
     },
     "execution_count": 5,
     "metadata": {},
     "output_type": "execute_result"
    }
   ],
   "source": [
    "df.describe()"
   ]
  },
  {
   "cell_type": "code",
   "execution_count": 6,
   "id": "ebd260e0-2373-41a0-ab45-3a21e51b8317",
   "metadata": {},
   "outputs": [
    {
     "data": {
      "text/html": [
       "<div>\n",
       "<style scoped>\n",
       "    .dataframe tbody tr th:only-of-type {\n",
       "        vertical-align: middle;\n",
       "    }\n",
       "\n",
       "    .dataframe tbody tr th {\n",
       "        vertical-align: top;\n",
       "    }\n",
       "\n",
       "    .dataframe thead th {\n",
       "        text-align: right;\n",
       "    }\n",
       "</style>\n",
       "<table border=\"1\" class=\"dataframe\">\n",
       "  <thead>\n",
       "    <tr style=\"text-align: right;\">\n",
       "      <th></th>\n",
       "      <th>city</th>\n",
       "      <th>trips_in_first_30_days</th>\n",
       "      <th>signup_date</th>\n",
       "      <th>avg_rating_of_driver</th>\n",
       "      <th>avg_surge</th>\n",
       "      <th>last_trip_date</th>\n",
       "      <th>phone</th>\n",
       "      <th>surge_pct</th>\n",
       "      <th>ultimate_black_user</th>\n",
       "      <th>weekday_pct</th>\n",
       "      <th>avg_dist</th>\n",
       "      <th>avg_rating_by_driver</th>\n",
       "    </tr>\n",
       "  </thead>\n",
       "  <tbody>\n",
       "    <tr>\n",
       "      <th>0</th>\n",
       "      <td>King's Landing</td>\n",
       "      <td>4</td>\n",
       "      <td>2014-01-25</td>\n",
       "      <td>4.7</td>\n",
       "      <td>1.10</td>\n",
       "      <td>2014-06-17</td>\n",
       "      <td>iPhone</td>\n",
       "      <td>15.4</td>\n",
       "      <td>True</td>\n",
       "      <td>46.2</td>\n",
       "      <td>3.67</td>\n",
       "      <td>5.0</td>\n",
       "    </tr>\n",
       "    <tr>\n",
       "      <th>1</th>\n",
       "      <td>Astapor</td>\n",
       "      <td>0</td>\n",
       "      <td>2014-01-29</td>\n",
       "      <td>5.0</td>\n",
       "      <td>1.00</td>\n",
       "      <td>2014-05-05</td>\n",
       "      <td>Android</td>\n",
       "      <td>0.0</td>\n",
       "      <td>False</td>\n",
       "      <td>50.0</td>\n",
       "      <td>8.26</td>\n",
       "      <td>5.0</td>\n",
       "    </tr>\n",
       "    <tr>\n",
       "      <th>2</th>\n",
       "      <td>Astapor</td>\n",
       "      <td>3</td>\n",
       "      <td>2014-01-06</td>\n",
       "      <td>4.3</td>\n",
       "      <td>1.00</td>\n",
       "      <td>2014-01-07</td>\n",
       "      <td>iPhone</td>\n",
       "      <td>0.0</td>\n",
       "      <td>False</td>\n",
       "      <td>100.0</td>\n",
       "      <td>0.77</td>\n",
       "      <td>5.0</td>\n",
       "    </tr>\n",
       "    <tr>\n",
       "      <th>3</th>\n",
       "      <td>King's Landing</td>\n",
       "      <td>9</td>\n",
       "      <td>2014-01-10</td>\n",
       "      <td>4.6</td>\n",
       "      <td>1.14</td>\n",
       "      <td>2014-06-29</td>\n",
       "      <td>iPhone</td>\n",
       "      <td>20.0</td>\n",
       "      <td>True</td>\n",
       "      <td>80.0</td>\n",
       "      <td>2.36</td>\n",
       "      <td>4.9</td>\n",
       "    </tr>\n",
       "    <tr>\n",
       "      <th>4</th>\n",
       "      <td>Winterfell</td>\n",
       "      <td>14</td>\n",
       "      <td>2014-01-27</td>\n",
       "      <td>4.4</td>\n",
       "      <td>1.19</td>\n",
       "      <td>2014-03-15</td>\n",
       "      <td>Android</td>\n",
       "      <td>11.8</td>\n",
       "      <td>False</td>\n",
       "      <td>82.4</td>\n",
       "      <td>3.13</td>\n",
       "      <td>4.9</td>\n",
       "    </tr>\n",
       "  </tbody>\n",
       "</table>\n",
       "</div>"
      ],
      "text/plain": [
       "             city  trips_in_first_30_days signup_date  avg_rating_of_driver  \\\n",
       "0  King's Landing                       4  2014-01-25                   4.7   \n",
       "1         Astapor                       0  2014-01-29                   5.0   \n",
       "2         Astapor                       3  2014-01-06                   4.3   \n",
       "3  King's Landing                       9  2014-01-10                   4.6   \n",
       "4      Winterfell                      14  2014-01-27                   4.4   \n",
       "\n",
       "   avg_surge last_trip_date    phone  surge_pct  ultimate_black_user  \\\n",
       "0       1.10     2014-06-17   iPhone       15.4                 True   \n",
       "1       1.00     2014-05-05  Android        0.0                False   \n",
       "2       1.00     2014-01-07   iPhone        0.0                False   \n",
       "3       1.14     2014-06-29   iPhone       20.0                 True   \n",
       "4       1.19     2014-03-15  Android       11.8                False   \n",
       "\n",
       "   weekday_pct  avg_dist  avg_rating_by_driver  \n",
       "0         46.2      3.67                   5.0  \n",
       "1         50.0      8.26                   5.0  \n",
       "2        100.0      0.77                   5.0  \n",
       "3         80.0      2.36                   4.9  \n",
       "4         82.4      3.13                   4.9  "
      ]
     },
     "execution_count": 6,
     "metadata": {},
     "output_type": "execute_result"
    }
   ],
   "source": [
    "df.head()"
   ]
  },
  {
   "cell_type": "code",
   "execution_count": 7,
   "id": "0fb4db8b-7a84-4af8-8b8f-0c76523f73c4",
   "metadata": {},
   "outputs": [
    {
     "data": {
      "text/html": [
       "<div>\n",
       "<style scoped>\n",
       "    .dataframe tbody tr th:only-of-type {\n",
       "        vertical-align: middle;\n",
       "    }\n",
       "\n",
       "    .dataframe tbody tr th {\n",
       "        vertical-align: top;\n",
       "    }\n",
       "\n",
       "    .dataframe thead th {\n",
       "        text-align: right;\n",
       "    }\n",
       "</style>\n",
       "<table border=\"1\" class=\"dataframe\">\n",
       "  <thead>\n",
       "    <tr style=\"text-align: right;\">\n",
       "      <th></th>\n",
       "      <th>city</th>\n",
       "      <th>trips_in_first_30_days</th>\n",
       "      <th>signup_date</th>\n",
       "      <th>avg_rating_of_driver</th>\n",
       "      <th>avg_surge</th>\n",
       "      <th>last_trip_date</th>\n",
       "      <th>phone</th>\n",
       "      <th>surge_pct</th>\n",
       "      <th>ultimate_black_user</th>\n",
       "      <th>weekday_pct</th>\n",
       "      <th>avg_dist</th>\n",
       "      <th>avg_rating_by_driver</th>\n",
       "      <th>active_in_sixth</th>\n",
       "    </tr>\n",
       "  </thead>\n",
       "  <tbody>\n",
       "    <tr>\n",
       "      <th>0</th>\n",
       "      <td>King's Landing</td>\n",
       "      <td>4</td>\n",
       "      <td>2014-01-25</td>\n",
       "      <td>4.7</td>\n",
       "      <td>1.10</td>\n",
       "      <td>2014-06-17</td>\n",
       "      <td>iPhone</td>\n",
       "      <td>15.4</td>\n",
       "      <td>True</td>\n",
       "      <td>46.2</td>\n",
       "      <td>3.67</td>\n",
       "      <td>5.0</td>\n",
       "      <td>True</td>\n",
       "    </tr>\n",
       "    <tr>\n",
       "      <th>1</th>\n",
       "      <td>Astapor</td>\n",
       "      <td>0</td>\n",
       "      <td>2014-01-29</td>\n",
       "      <td>5.0</td>\n",
       "      <td>1.00</td>\n",
       "      <td>2014-05-05</td>\n",
       "      <td>Android</td>\n",
       "      <td>0.0</td>\n",
       "      <td>False</td>\n",
       "      <td>50.0</td>\n",
       "      <td>8.26</td>\n",
       "      <td>5.0</td>\n",
       "      <td>False</td>\n",
       "    </tr>\n",
       "    <tr>\n",
       "      <th>2</th>\n",
       "      <td>Astapor</td>\n",
       "      <td>3</td>\n",
       "      <td>2014-01-06</td>\n",
       "      <td>4.3</td>\n",
       "      <td>1.00</td>\n",
       "      <td>2014-01-07</td>\n",
       "      <td>iPhone</td>\n",
       "      <td>0.0</td>\n",
       "      <td>False</td>\n",
       "      <td>100.0</td>\n",
       "      <td>0.77</td>\n",
       "      <td>5.0</td>\n",
       "      <td>False</td>\n",
       "    </tr>\n",
       "    <tr>\n",
       "      <th>3</th>\n",
       "      <td>King's Landing</td>\n",
       "      <td>9</td>\n",
       "      <td>2014-01-10</td>\n",
       "      <td>4.6</td>\n",
       "      <td>1.14</td>\n",
       "      <td>2014-06-29</td>\n",
       "      <td>iPhone</td>\n",
       "      <td>20.0</td>\n",
       "      <td>True</td>\n",
       "      <td>80.0</td>\n",
       "      <td>2.36</td>\n",
       "      <td>4.9</td>\n",
       "      <td>True</td>\n",
       "    </tr>\n",
       "    <tr>\n",
       "      <th>4</th>\n",
       "      <td>Winterfell</td>\n",
       "      <td>14</td>\n",
       "      <td>2014-01-27</td>\n",
       "      <td>4.4</td>\n",
       "      <td>1.19</td>\n",
       "      <td>2014-03-15</td>\n",
       "      <td>Android</td>\n",
       "      <td>11.8</td>\n",
       "      <td>False</td>\n",
       "      <td>82.4</td>\n",
       "      <td>3.13</td>\n",
       "      <td>4.9</td>\n",
       "      <td>False</td>\n",
       "    </tr>\n",
       "  </tbody>\n",
       "</table>\n",
       "</div>"
      ],
      "text/plain": [
       "             city  trips_in_first_30_days signup_date  avg_rating_of_driver  \\\n",
       "0  King's Landing                       4  2014-01-25                   4.7   \n",
       "1         Astapor                       0  2014-01-29                   5.0   \n",
       "2         Astapor                       3  2014-01-06                   4.3   \n",
       "3  King's Landing                       9  2014-01-10                   4.6   \n",
       "4      Winterfell                      14  2014-01-27                   4.4   \n",
       "\n",
       "   avg_surge last_trip_date    phone  surge_pct  ultimate_black_user  \\\n",
       "0       1.10     2014-06-17   iPhone       15.4                 True   \n",
       "1       1.00     2014-05-05  Android        0.0                False   \n",
       "2       1.00     2014-01-07   iPhone        0.0                False   \n",
       "3       1.14     2014-06-29   iPhone       20.0                 True   \n",
       "4       1.19     2014-03-15  Android       11.8                False   \n",
       "\n",
       "   weekday_pct  avg_dist  avg_rating_by_driver  active_in_sixth  \n",
       "0         46.2      3.67                   5.0             True  \n",
       "1         50.0      8.26                   5.0            False  \n",
       "2        100.0      0.77                   5.0            False  \n",
       "3         80.0      2.36                   4.9             True  \n",
       "4         82.4      3.13                   4.9            False  "
      ]
     },
     "execution_count": 7,
     "metadata": {},
     "output_type": "execute_result"
    }
   ],
   "source": [
    "#Create boolean column for activity in the sixth month\n",
    "df['active_in_sixth'] = df['last_trip_date'].dt.month_name().isin(['June', 'July'])\n",
    "df.head()"
   ]
  },
  {
   "cell_type": "code",
   "execution_count": 8,
   "id": "6a14e18a-5a00-41f6-a297-458db577af60",
   "metadata": {},
   "outputs": [
    {
     "data": {
      "text/plain": [
       "Text(0.5, 1.0, 'Number of Users Active in Sixth Month')"
      ]
     },
     "execution_count": 8,
     "metadata": {},
     "output_type": "execute_result"
    },
    {
     "data": {
      "image/png": "[encoded data removed]",
      "text/plain": [
       "<Figure size 640x480 with 1 Axes>"
      ]
     },
     "metadata": {},
     "output_type": "display_data"
    }
   ],
   "source": [
    "#Plot ratio of riders active vs inactive in their sixth month\n",
    "df['active_in_sixth'].value_counts().plot.pie(autopct='%1.1f%%', ylabel='', legend=True, labeldistance=None)\n",
    "plt.legend(['Inactive', 'active'], prop={'size': 8})\n",
    "plt.title('Number of Users Active in Sixth Month')"
   ]
  },
  {
   "cell_type": "code",
   "execution_count": 9,
   "id": "f8633252-966d-444c-b75f-37fabcd0bb51",
   "metadata": {},
   "outputs": [
    {
     "data": {
      "text/html": [
       "<div>\n",
       "<style scoped>\n",
       "    .dataframe tbody tr th:only-of-type {\n",
       "        vertical-align: middle;\n",
       "    }\n",
       "\n",
       "    .dataframe tbody tr th {\n",
       "        vertical-align: top;\n",
       "    }\n",
       "\n",
       "    .dataframe thead th {\n",
       "        text-align: right;\n",
       "    }\n",
       "</style>\n",
       "<table border=\"1\" class=\"dataframe\">\n",
       "  <thead>\n",
       "    <tr style=\"text-align: right;\">\n",
       "      <th></th>\n",
       "      <th>index</th>\n",
       "      <th>trips_in_first_30_days</th>\n",
       "      <th>signup_date</th>\n",
       "      <th>avg_rating_of_driver</th>\n",
       "      <th>avg_surge</th>\n",
       "      <th>last_trip_date</th>\n",
       "      <th>surge_pct</th>\n",
       "      <th>weekday_pct</th>\n",
       "      <th>avg_dist</th>\n",
       "      <th>avg_rating_by_driver</th>\n",
       "    </tr>\n",
       "  </thead>\n",
       "  <tbody>\n",
       "    <tr>\n",
       "      <th>count</th>\n",
       "      <td>8122.000000</td>\n",
       "      <td>8122.000000</td>\n",
       "      <td>8122</td>\n",
       "      <td>0.0</td>\n",
       "      <td>8122.000000</td>\n",
       "      <td>8122</td>\n",
       "      <td>8122.000000</td>\n",
       "      <td>8122.000000</td>\n",
       "      <td>8122.000000</td>\n",
       "      <td>8055.000000</td>\n",
       "    </tr>\n",
       "    <tr>\n",
       "      <th>mean</th>\n",
       "      <td>25079.305344</td>\n",
       "      <td>0.593327</td>\n",
       "      <td>2014-01-16 22:06:42.462447360</td>\n",
       "      <td>NaN</td>\n",
       "      <td>1.078210</td>\n",
       "      <td>2014-03-24 11:53:58.315685632</td>\n",
       "      <td>8.548067</td>\n",
       "      <td>59.050948</td>\n",
       "      <td>7.506267</td>\n",
       "      <td>4.785984</td>\n",
       "    </tr>\n",
       "    <tr>\n",
       "      <th>min</th>\n",
       "      <td>6.000000</td>\n",
       "      <td>0.000000</td>\n",
       "      <td>2014-01-01 00:00:00</td>\n",
       "      <td>NaN</td>\n",
       "      <td>1.000000</td>\n",
       "      <td>2014-01-01 00:00:00</td>\n",
       "      <td>0.000000</td>\n",
       "      <td>0.000000</td>\n",
       "      <td>0.000000</td>\n",
       "      <td>1.000000</td>\n",
       "    </tr>\n",
       "    <tr>\n",
       "      <th>25%</th>\n",
       "      <td>12607.000000</td>\n",
       "      <td>0.000000</td>\n",
       "      <td>2014-01-10 00:00:00</td>\n",
       "      <td>NaN</td>\n",
       "      <td>1.000000</td>\n",
       "      <td>2014-01-26 00:00:00</td>\n",
       "      <td>0.000000</td>\n",
       "      <td>0.000000</td>\n",
       "      <td>2.410000</td>\n",
       "      <td>5.000000</td>\n",
       "    </tr>\n",
       "    <tr>\n",
       "      <th>50%</th>\n",
       "      <td>25313.000000</td>\n",
       "      <td>1.000000</td>\n",
       "      <td>2014-01-18 00:00:00</td>\n",
       "      <td>NaN</td>\n",
       "      <td>1.000000</td>\n",
       "      <td>2014-03-16 00:00:00</td>\n",
       "      <td>0.000000</td>\n",
       "      <td>100.000000</td>\n",
       "      <td>4.715000</td>\n",
       "      <td>5.000000</td>\n",
       "    </tr>\n",
       "    <tr>\n",
       "      <th>75%</th>\n",
       "      <td>37468.250000</td>\n",
       "      <td>1.000000</td>\n",
       "      <td>2014-01-25 00:00:00</td>\n",
       "      <td>NaN</td>\n",
       "      <td>1.000000</td>\n",
       "      <td>2014-05-22 00:00:00</td>\n",
       "      <td>0.000000</td>\n",
       "      <td>100.000000</td>\n",
       "      <td>10.720000</td>\n",
       "      <td>5.000000</td>\n",
       "    </tr>\n",
       "    <tr>\n",
       "      <th>max</th>\n",
       "      <td>49999.000000</td>\n",
       "      <td>5.000000</td>\n",
       "      <td>2014-01-31 00:00:00</td>\n",
       "      <td>NaN</td>\n",
       "      <td>5.000000</td>\n",
       "      <td>2014-07-01 00:00:00</td>\n",
       "      <td>100.000000</td>\n",
       "      <td>100.000000</td>\n",
       "      <td>160.960000</td>\n",
       "      <td>5.000000</td>\n",
       "    </tr>\n",
       "    <tr>\n",
       "      <th>std</th>\n",
       "      <td>14409.821163</td>\n",
       "      <td>0.606755</td>\n",
       "      <td>NaN</td>\n",
       "      <td>NaN</td>\n",
       "      <td>0.310306</td>\n",
       "      <td>NaN</td>\n",
       "      <td>26.578461</td>\n",
       "      <td>46.859739</td>\n",
       "      <td>7.758616</td>\n",
       "      <td>0.622122</td>\n",
       "    </tr>\n",
       "  </tbody>\n",
       "</table>\n",
       "</div>"
      ],
      "text/plain": [
       "              index  trips_in_first_30_days                    signup_date  \\\n",
       "count   8122.000000             8122.000000                           8122   \n",
       "mean   25079.305344                0.593327  2014-01-16 22:06:42.462447360   \n",
       "min        6.000000                0.000000            2014-01-01 00:00:00   \n",
       "25%    12607.000000                0.000000            2014-01-10 00:00:00   \n",
       "50%    25313.000000                1.000000            2014-01-18 00:00:00   \n",
       "75%    37468.250000                1.000000            2014-01-25 00:00:00   \n",
       "max    49999.000000                5.000000            2014-01-31 00:00:00   \n",
       "std    14409.821163                0.606755                            NaN   \n",
       "\n",
       "       avg_rating_of_driver    avg_surge                 last_trip_date  \\\n",
       "count                   0.0  8122.000000                           8122   \n",
       "mean                    NaN     1.078210  2014-03-24 11:53:58.315685632   \n",
       "min                     NaN     1.000000            2014-01-01 00:00:00   \n",
       "25%                     NaN     1.000000            2014-01-26 00:00:00   \n",
       "50%                     NaN     1.000000            2014-03-16 00:00:00   \n",
       "75%                     NaN     1.000000            2014-05-22 00:00:00   \n",
       "max                     NaN     5.000000            2014-07-01 00:00:00   \n",
       "std                     NaN     0.310306                            NaN   \n",
       "\n",
       "         surge_pct  weekday_pct     avg_dist  avg_rating_by_driver  \n",
       "count  8122.000000  8122.000000  8122.000000           8055.000000  \n",
       "mean      8.548067    59.050948     7.506267              4.785984  \n",
       "min       0.000000     0.000000     0.000000              1.000000  \n",
       "25%       0.000000     0.000000     2.410000              5.000000  \n",
       "50%       0.000000   100.000000     4.715000              5.000000  \n",
       "75%       0.000000   100.000000    10.720000              5.000000  \n",
       "max     100.000000   100.000000   160.960000              5.000000  \n",
       "std      26.578461    46.859739     7.758616              0.622122  "
      ]
     },
     "execution_count": 9,
     "metadata": {},
     "output_type": "execute_result"
    }
   ],
   "source": [
    "#Create a df of all null values for 'avg_rating_of_driver\n",
    "null_avg_rating = df[df['avg_rating_of_driver'].isnull() == True]\n",
    "null_avg_rating.reset_index(inplace=True)\n",
    "null_avg_rating.describe()"
   ]
  },
  {
   "cell_type": "code",
   "execution_count": 10,
   "id": "1effde92-fabb-4aa3-92ca-95250eb07db3",
   "metadata": {},
   "outputs": [
    {
     "data": {
      "text/plain": [
       "Text(0.5, 1.0, 'Number of Users With No Avg Rating Active in Sixth Month')"
      ]
     },
     "execution_count": 10,
     "metadata": {},
     "output_type": "execute_result"
    },
    {
     "data": {
      "image/png": "[encoded data removed]",
      "text/plain": [
       "<Figure size 640x480 with 1 Axes>"
      ]
     },
     "metadata": {},
     "output_type": "display_data"
    }
   ],
   "source": [
    "#plot the ratio of null 'avg_rating_of_driver' riders active after 6 months\n",
    "null_avg_rating['active_in_sixth'].value_counts().plot.pie(autopct='%1.1f%%', ylabel='', legend=True, labeldistance=None)\n",
    "plt.legend(['Inactive', 'active'], prop={'size': 8})\n",
    "plt.title('Number of Users With No Avg Rating Active in Sixth Month')"
   ]
  },
  {
   "cell_type": "markdown",
   "id": "fb9e0bee-9328-4bfc-9c56-175c6b1b0535",
   "metadata": {},
   "source": [
    "The 75% quartile rider's last trip was less than six months from their account creation date and they averaged less than one trip in their first 30 days."
   ]
  },
  {
   "cell_type": "code",
   "execution_count": 11,
   "id": "e3137252-82eb-4d47-8344-282b9bd9d667",
   "metadata": {},
   "outputs": [
    {
     "data": {
      "text/html": [
       "<div>\n",
       "<style scoped>\n",
       "    .dataframe tbody tr th:only-of-type {\n",
       "        vertical-align: middle;\n",
       "    }\n",
       "\n",
       "    .dataframe tbody tr th {\n",
       "        vertical-align: top;\n",
       "    }\n",
       "\n",
       "    .dataframe thead th {\n",
       "        text-align: right;\n",
       "    }\n",
       "</style>\n",
       "<table border=\"1\" class=\"dataframe\">\n",
       "  <thead>\n",
       "    <tr style=\"text-align: right;\">\n",
       "      <th></th>\n",
       "      <th>index</th>\n",
       "      <th>trips_in_first_30_days</th>\n",
       "      <th>signup_date</th>\n",
       "      <th>avg_rating_of_driver</th>\n",
       "      <th>avg_surge</th>\n",
       "      <th>last_trip_date</th>\n",
       "      <th>surge_pct</th>\n",
       "      <th>weekday_pct</th>\n",
       "      <th>avg_dist</th>\n",
       "      <th>avg_rating_by_driver</th>\n",
       "    </tr>\n",
       "  </thead>\n",
       "  <tbody>\n",
       "    <tr>\n",
       "      <th>count</th>\n",
       "      <td>41878.000000</td>\n",
       "      <td>41878.000000</td>\n",
       "      <td>41878</td>\n",
       "      <td>41878.000000</td>\n",
       "      <td>41878.000000</td>\n",
       "      <td>41878</td>\n",
       "      <td>41878.000000</td>\n",
       "      <td>41878.000000</td>\n",
       "      <td>41878.000000</td>\n",
       "      <td>41744.000000</td>\n",
       "    </tr>\n",
       "    <tr>\n",
       "      <th>mean</th>\n",
       "      <td>24984.022207</td>\n",
       "      <td>2.604972</td>\n",
       "      <td>2014-01-16 11:19:08.994699008</td>\n",
       "      <td>4.601559</td>\n",
       "      <td>1.074095</td>\n",
       "      <td>2014-04-24 08:18:23.089928192</td>\n",
       "      <td>8.908004</td>\n",
       "      <td>61.289756</td>\n",
       "      <td>5.465290</td>\n",
       "      <td>4.776648</td>\n",
       "    </tr>\n",
       "    <tr>\n",
       "      <th>min</th>\n",
       "      <td>0.000000</td>\n",
       "      <td>0.000000</td>\n",
       "      <td>2014-01-01 00:00:00</td>\n",
       "      <td>1.000000</td>\n",
       "      <td>1.000000</td>\n",
       "      <td>2014-01-01 00:00:00</td>\n",
       "      <td>0.000000</td>\n",
       "      <td>0.000000</td>\n",
       "      <td>0.000000</td>\n",
       "      <td>1.000000</td>\n",
       "    </tr>\n",
       "    <tr>\n",
       "      <th>25%</th>\n",
       "      <td>12481.250000</td>\n",
       "      <td>0.000000</td>\n",
       "      <td>2014-01-09 00:00:00</td>\n",
       "      <td>4.300000</td>\n",
       "      <td>1.000000</td>\n",
       "      <td>2014-02-23 00:00:00</td>\n",
       "      <td>0.000000</td>\n",
       "      <td>37.500000</td>\n",
       "      <td>2.420000</td>\n",
       "      <td>4.700000</td>\n",
       "    </tr>\n",
       "    <tr>\n",
       "      <th>50%</th>\n",
       "      <td>24940.000000</td>\n",
       "      <td>1.000000</td>\n",
       "      <td>2014-01-17 00:00:00</td>\n",
       "      <td>4.900000</td>\n",
       "      <td>1.000000</td>\n",
       "      <td>2014-05-16 00:00:00</td>\n",
       "      <td>0.000000</td>\n",
       "      <td>66.700000</td>\n",
       "      <td>3.790000</td>\n",
       "      <td>5.000000</td>\n",
       "    </tr>\n",
       "    <tr>\n",
       "      <th>75%</th>\n",
       "      <td>37503.750000</td>\n",
       "      <td>3.000000</td>\n",
       "      <td>2014-01-24 00:00:00</td>\n",
       "      <td>5.000000</td>\n",
       "      <td>1.070000</td>\n",
       "      <td>2014-06-20 00:00:00</td>\n",
       "      <td>11.100000</td>\n",
       "      <td>100.000000</td>\n",
       "      <td>6.490000</td>\n",
       "      <td>5.000000</td>\n",
       "    </tr>\n",
       "    <tr>\n",
       "      <th>max</th>\n",
       "      <td>49998.000000</td>\n",
       "      <td>125.000000</td>\n",
       "      <td>2014-01-31 00:00:00</td>\n",
       "      <td>5.000000</td>\n",
       "      <td>8.000000</td>\n",
       "      <td>2014-07-01 00:00:00</td>\n",
       "      <td>100.000000</td>\n",
       "      <td>100.000000</td>\n",
       "      <td>79.690000</td>\n",
       "      <td>5.000000</td>\n",
       "    </tr>\n",
       "    <tr>\n",
       "      <th>std</th>\n",
       "      <td>14438.687323</td>\n",
       "      <td>4.055311</td>\n",
       "      <td>NaN</td>\n",
       "      <td>0.617338</td>\n",
       "      <td>0.200861</td>\n",
       "      <td>NaN</td>\n",
       "      <td>18.401140</td>\n",
       "      <td>34.858046</td>\n",
       "      <td>5.151833</td>\n",
       "      <td>0.404109</td>\n",
       "    </tr>\n",
       "  </tbody>\n",
       "</table>\n",
       "</div>"
      ],
      "text/plain": [
       "              index  trips_in_first_30_days                    signup_date  \\\n",
       "count  41878.000000            41878.000000                          41878   \n",
       "mean   24984.022207                2.604972  2014-01-16 11:19:08.994699008   \n",
       "min        0.000000                0.000000            2014-01-01 00:00:00   \n",
       "25%    12481.250000                0.000000            2014-01-09 00:00:00   \n",
       "50%    24940.000000                1.000000            2014-01-17 00:00:00   \n",
       "75%    37503.750000                3.000000            2014-01-24 00:00:00   \n",
       "max    49998.000000              125.000000            2014-01-31 00:00:00   \n",
       "std    14438.687323                4.055311                            NaN   \n",
       "\n",
       "       avg_rating_of_driver     avg_surge                 last_trip_date  \\\n",
       "count          41878.000000  41878.000000                          41878   \n",
       "mean               4.601559      1.074095  2014-04-24 08:18:23.089928192   \n",
       "min                1.000000      1.000000            2014-01-01 00:00:00   \n",
       "25%                4.300000      1.000000            2014-02-23 00:00:00   \n",
       "50%                4.900000      1.000000            2014-05-16 00:00:00   \n",
       "75%                5.000000      1.070000            2014-06-20 00:00:00   \n",
       "max                5.000000      8.000000            2014-07-01 00:00:00   \n",
       "std                0.617338      0.200861                            NaN   \n",
       "\n",
       "          surge_pct   weekday_pct      avg_dist  avg_rating_by_driver  \n",
       "count  41878.000000  41878.000000  41878.000000          41744.000000  \n",
       "mean       8.908004     61.289756      5.465290              4.776648  \n",
       "min        0.000000      0.000000      0.000000              1.000000  \n",
       "25%        0.000000     37.500000      2.420000              4.700000  \n",
       "50%        0.000000     66.700000      3.790000              5.000000  \n",
       "75%       11.100000    100.000000      6.490000              5.000000  \n",
       "max      100.000000    100.000000     79.690000              5.000000  \n",
       "std       18.401140     34.858046      5.151833              0.404109  "
      ]
     },
     "execution_count": 11,
     "metadata": {},
     "output_type": "execute_result"
    }
   ],
   "source": [
    "#Describe the data for 'avg_rating_of_driver'\n",
    "non_null_avg_rating = df[df['avg_rating_of_driver'].isnull() == False]\n",
    "non_null_avg_rating.reset_index(inplace=True)\n",
    "non_null_avg_rating.describe()"
   ]
  },
  {
   "cell_type": "code",
   "execution_count": 12,
   "id": "986ea642-1c68-41ab-bda2-00264862a426",
   "metadata": {},
   "outputs": [
    {
     "data": {
      "text/plain": [
       "Text(0.5, 1.0, 'Number of Users With Avg Rating Active in Sixth Month')"
      ]
     },
     "execution_count": 12,
     "metadata": {},
     "output_type": "execute_result"
    },
    {
     "data": {
      "image/png": "[encoded data removed]",
      "text/plain": [
       "<Figure size 640x480 with 1 Axes>"
      ]
     },
     "metadata": {},
     "output_type": "display_data"
    }
   ],
   "source": [
    "#Create a df of all non null values for 'avg_rating_of_driver\n",
    "non_null_avg_rating['active_in_sixth'].value_counts().plot.pie(autopct='%1.1f%%', ylabel='', legend=True, labeldistance=None)\n",
    "plt.legend(['Inactive', 'active'], prop={'size': 8})\n",
    "plt.title('Number of Users With Avg Rating Active in Sixth Month')"
   ]
  },
  {
   "cell_type": "markdown",
   "id": "3bd02128-d6df-4265-bdff-68d03c0e8db4",
   "metadata": {},
   "source": [
    "Riders who do not have null avg_rating_of_driver average 2 more trips in their first 30 days."
   ]
  },
  {
   "cell_type": "code",
   "execution_count": 13,
   "id": "917a4da0-8f3e-47e8-8b58-e9914969f1ed",
   "metadata": {},
   "outputs": [
    {
     "data": {
      "text/plain": [
       "array([\"King's Landing\", 'Astapor', 'Winterfell'], dtype=object)"
      ]
     },
     "execution_count": 13,
     "metadata": {},
     "output_type": "execute_result"
    }
   ],
   "source": [
    "#Unique values of city\n",
    "df.city.unique()"
   ]
  },
  {
   "cell_type": "code",
   "execution_count": 14,
   "id": "7c78a4b8-30cc-487b-848c-812267016191",
   "metadata": {},
   "outputs": [
    {
     "data": {
      "text/plain": [
       "array(['iPhone', 'Android', None], dtype=object)"
      ]
     },
     "execution_count": 14,
     "metadata": {},
     "output_type": "execute_result"
    }
   ],
   "source": [
    "#Unique values for phones\n",
    "df.phone.unique()"
   ]
  },
  {
   "cell_type": "code",
   "execution_count": 15,
   "id": "86f781dd-1afc-4dcc-8163-10ae6d5ae6d9",
   "metadata": {},
   "outputs": [
    {
     "data": {
      "text/plain": [
       "Text(0.5, 1.0, 'Number of Ultimate Black Users')"
      ]
     },
     "execution_count": 15,
     "metadata": {},
     "output_type": "execute_result"
    },
    {
     "data": {
      "image/png": "[encoded data removed]",
      "text/plain": [
       "<Figure size 640x480 with 1 Axes>"
      ]
     },
     "metadata": {},
     "output_type": "display_data"
    }
   ],
   "source": [
    "#plot the ratio of Ultimate Black Users to Non Ultimate Black Users\n",
    "df['ultimate_black_user'].value_counts().plot.pie(autopct='%1.1f%%', ylabel='', legend=True, labeldistance=None)\n",
    "plt.legend(['Not Ultimate Black', 'Ultimate Black'], prop={'size': 8})\n",
    "plt.title('Number of Ultimate Black Users')"
   ]
  },
  {
   "cell_type": "code",
   "execution_count": 16,
   "id": "f7c16d72-92fd-4b5c-b332-aafdf062cd08",
   "metadata": {},
   "outputs": [
    {
     "name": "stdout",
     "output_type": "stream",
     "text": [
      "ultimate_black_user\n",
      "True     0.51\n",
      "False    0.49\n",
      "Name: count, dtype: float64\n"
     ]
    }
   ],
   "source": [
    "#Ratio of Ultimate Black Users who were active after 6 months\n",
    "six_month_users = df[df['active_in_sixth']]\n",
    "counts = six_month_users['ultimate_black_user'].value_counts()\n",
    "ratios = round(counts / counts.sum(),2)\n",
    "print(ratios)"
   ]
  },
  {
   "cell_type": "markdown",
   "id": "de980319-8b99-4f56-9bba-933027868c6e",
   "metadata": {},
   "source": [
    "# 2. Predictive Model"
   ]
  },
  {
   "cell_type": "markdown",
   "id": "4b49fbed-2e34-44b1-9c84-51206b839af6",
   "metadata": {},
   "source": [
    "There are multiple classifier models that can perform well when predicting customer churn. the most common models recommended are Logistic Regression, Decision trees, Random Forest, and Gradient Boosting Machines (GBM).  I opted for The Random Forest in this example because I thought it would have greater accuracy over Decision Trees and Logistic Regression while also rquiring less tuning than GBM."
   ]
  },
  {
   "cell_type": "code",
   "execution_count": 17,
   "id": "05bfd496-2827-458d-8a16-d93c8d7a1895",
   "metadata": {},
   "outputs": [],
   "source": [
    "#Imports for modeling\n",
    "from sklearn.model_selection import train_test_split\n",
    "from sklearn.preprocessing import StandardScaler, OneHotEncoder\n",
    "from sklearn.ensemble import RandomForestClassifier\n",
    "from sklearn.metrics import accuracy_score\n",
    "from sklearn.metrics import roc_auc_score, roc_curve"
   ]
  },
  {
   "cell_type": "code",
   "execution_count": 18,
   "id": "6cf804ba-529d-4d05-9b52-55dd3fdb977b",
   "metadata": {},
   "outputs": [
    {
     "name": "stderr",
     "output_type": "stream",
     "text": [
      "C:\\Users\\Josh\\AppData\\Local\\Temp\\ipykernel_24528\\214825601.py:2: FutureWarning: A value is trying to be set on a copy of a DataFrame or Series through chained assignment using an inplace method.\n",
      "The behavior will change in pandas 3.0. This inplace method will never work because the intermediate object on which we are setting values always behaves as a copy.\n",
      "\n",
      "For example, when doing 'df[col].method(value, inplace=True)', try using 'df.method({col: value}, inplace=True)' or df[col] = df[col].method(value) instead, to perform the operation inplace on the original object.\n",
      "\n",
      "\n",
      "  df['phone'].fillna('None', inplace=True)\n",
      "C:\\Users\\Josh\\AppData\\Local\\Temp\\ipykernel_24528\\214825601.py:3: FutureWarning: A value is trying to be set on a copy of a DataFrame or Series through chained assignment using an inplace method.\n",
      "The behavior will change in pandas 3.0. This inplace method will never work because the intermediate object on which we are setting values always behaves as a copy.\n",
      "\n",
      "For example, when doing 'df[col].method(value, inplace=True)', try using 'df.method({col: value}, inplace=True)' or df[col] = df[col].method(value) instead, to perform the operation inplace on the original object.\n",
      "\n",
      "\n",
      "  df['avg_rating_of_driver'].fillna(3, inplace=True)\n",
      "C:\\Users\\Josh\\AppData\\Local\\Temp\\ipykernel_24528\\214825601.py:4: FutureWarning: A value is trying to be set on a copy of a DataFrame or Series through chained assignment using an inplace method.\n",
      "The behavior will change in pandas 3.0. This inplace method will never work because the intermediate object on which we are setting values always behaves as a copy.\n",
      "\n",
      "For example, when doing 'df[col].method(value, inplace=True)', try using 'df.method({col: value}, inplace=True)' or df[col] = df[col].method(value) instead, to perform the operation inplace on the original object.\n",
      "\n",
      "\n",
      "  df['avg_rating_by_driver'].fillna(3, inplace=True)\n"
     ]
    }
   ],
   "source": [
    "#Fill NA values\n",
    "df['phone'].fillna('None', inplace=True)\n",
    "df['avg_rating_of_driver'].fillna(3, inplace=True)\n",
    "df['avg_rating_by_driver'].fillna(3, inplace=True)"
   ]
  },
  {
   "cell_type": "code",
   "execution_count": 19,
   "id": "759e02f3-e4c9-49c6-8d4f-cbf0597c249e",
   "metadata": {},
   "outputs": [
    {
     "name": "stdout",
     "output_type": "stream",
     "text": [
      "<class 'pandas.core.frame.DataFrame'>\n",
      "RangeIndex: 50000 entries, 0 to 49999\n",
      "Data columns (total 13 columns):\n",
      " #   Column                  Non-Null Count  Dtype         \n",
      "---  ------                  --------------  -----         \n",
      " 0   city                    50000 non-null  object        \n",
      " 1   trips_in_first_30_days  50000 non-null  int64         \n",
      " 2   signup_date             50000 non-null  datetime64[ns]\n",
      " 3   avg_rating_of_driver    50000 non-null  float64       \n",
      " 4   avg_surge               50000 non-null  float64       \n",
      " 5   last_trip_date          50000 non-null  datetime64[ns]\n",
      " 6   phone                   50000 non-null  object        \n",
      " 7   surge_pct               50000 non-null  float64       \n",
      " 8   ultimate_black_user     50000 non-null  bool          \n",
      " 9   weekday_pct             50000 non-null  float64       \n",
      " 10  avg_dist                50000 non-null  float64       \n",
      " 11  avg_rating_by_driver    50000 non-null  float64       \n",
      " 12  active_in_sixth         50000 non-null  bool          \n",
      "dtypes: bool(2), datetime64[ns](2), float64(6), int64(1), object(2)\n",
      "memory usage: 4.3+ MB\n"
     ]
    }
   ],
   "source": [
    "#Info post NA fill\n",
    "df.info()"
   ]
  },
  {
   "cell_type": "code",
   "execution_count": 20,
   "id": "b5648471-a549-4a04-bdfd-b624a7ac6d39",
   "metadata": {},
   "outputs": [
    {
     "name": "stdout",
     "output_type": "stream",
     "text": [
      "<class 'pandas.core.frame.DataFrame'>\n",
      "RangeIndex: 50000 entries, 0 to 49999\n",
      "Data columns (total 11 columns):\n",
      " #   Column                  Non-Null Count  Dtype  \n",
      "---  ------                  --------------  -----  \n",
      " 0   city                    50000 non-null  object \n",
      " 1   trips_in_first_30_days  50000 non-null  int64  \n",
      " 2   avg_rating_of_driver    50000 non-null  float64\n",
      " 3   avg_surge               50000 non-null  float64\n",
      " 4   phone                   50000 non-null  object \n",
      " 5   surge_pct               50000 non-null  float64\n",
      " 6   ultimate_black_user     50000 non-null  bool   \n",
      " 7   weekday_pct             50000 non-null  float64\n",
      " 8   avg_dist                50000 non-null  float64\n",
      " 9   avg_rating_by_driver    50000 non-null  float64\n",
      " 10  active_in_sixth         50000 non-null  bool   \n",
      "dtypes: bool(2), float64(6), int64(1), object(2)\n",
      "memory usage: 3.5+ MB\n"
     ]
    }
   ],
   "source": [
    "#drop date columns\n",
    "df_data = df.drop(labels=['last_trip_date', 'signup_date'], axis=1)\n",
    "df_data.info()"
   ]
  },
  {
   "cell_type": "code",
   "execution_count": 21,
   "id": "32c861c0-2ee2-4150-8394-05c96a9237d6",
   "metadata": {},
   "outputs": [
    {
     "name": "stdout",
     "output_type": "stream",
     "text": [
      "<class 'pandas.core.frame.DataFrame'>\n",
      "RangeIndex: 50000 entries, 0 to 49999\n",
      "Data columns (total 11 columns):\n",
      " #   Column                  Non-Null Count  Dtype  \n",
      "---  ------                  --------------  -----  \n",
      " 0   city                    50000 non-null  object \n",
      " 1   trips_in_first_30_days  50000 non-null  int64  \n",
      " 2   avg_rating_of_driver    50000 non-null  float64\n",
      " 3   avg_surge               50000 non-null  float64\n",
      " 4   phone                   50000 non-null  object \n",
      " 5   surge_pct               50000 non-null  float64\n",
      " 6   ultimate_black_user     50000 non-null  bool   \n",
      " 7   weekday_pct             50000 non-null  float64\n",
      " 8   avg_dist                50000 non-null  float64\n",
      " 9   avg_rating_by_driver    50000 non-null  float64\n",
      " 10  active_in_sixth         50000 non-null  bool   \n",
      "dtypes: bool(2), float64(6), int64(1), object(2)\n",
      "memory usage: 3.5+ MB\n"
     ]
    }
   ],
   "source": [
    "df_data.info()"
   ]
  },
  {
   "cell_type": "code",
   "execution_count": 22,
   "id": "d3a9c0ba-cffc-40c2-a7a2-811bd59afe6a",
   "metadata": {},
   "outputs": [],
   "source": [
    "#Set bool columns to 1/0 values\n",
    "df_data['ultimate_black_user'] = df_data['ultimate_black_user'].astype(int)\n",
    "df_data['active_in_sixth'] = df_data['active_in_sixth'].astype(int) "
   ]
  },
  {
   "cell_type": "code",
   "execution_count": 23,
   "id": "b9a3dabe-957d-469c-86bf-3757e36f6921",
   "metadata": {},
   "outputs": [],
   "source": [
    "#Create X and y\n",
    "X = df_data.drop(columns='active_in_sixth')\n",
    "y = df_data['active_in_sixth']"
   ]
  },
  {
   "cell_type": "code",
   "execution_count": 24,
   "id": "5273e0ac-f2df-4037-b7b2-8b7f7fd07678",
   "metadata": {},
   "outputs": [],
   "source": [
    "#Create train test splits\n",
    "X_train, X_test, y_train, y_test = train_test_split(X, y, test_size=0.2, random_state=42)"
   ]
  },
  {
   "cell_type": "code",
   "execution_count": 25,
   "id": "74af62bf-4d6a-4195-82ca-c53269c444b5",
   "metadata": {},
   "outputs": [],
   "source": [
    "#Set categorical and numerical columns lists\n",
    "categorical_cols = ['city', 'phone']\n",
    "numerical_cols = X.columns.difference(['city', 'phone'])"
   ]
  },
  {
   "cell_type": "code",
   "execution_count": 26,
   "id": "c0118ef5-2b55-4792-b5d3-5388c1333419",
   "metadata": {},
   "outputs": [],
   "source": [
    "#Scale numerical data\n",
    "scaler = StandardScaler()\n",
    "X_train_num_scaled = scaler.fit_transform(X_train[numerical_cols])\n",
    "X_test_num_scaled = scaler.transform(X_test[numerical_cols])"
   ]
  },
  {
   "cell_type": "code",
   "execution_count": 27,
   "id": "87733e99-d624-49de-9542-df39152349ef",
   "metadata": {},
   "outputs": [
    {
     "data": {
      "text/plain": [
       "numpy.ndarray"
      ]
     },
     "execution_count": 27,
     "metadata": {},
     "output_type": "execute_result"
    }
   ],
   "source": [
    "type(X_train_num_scaled)"
   ]
  },
  {
   "cell_type": "code",
   "execution_count": 28,
   "id": "3139d555-ba17-434d-8384-e573f340333d",
   "metadata": {},
   "outputs": [
    {
     "name": "stderr",
     "output_type": "stream",
     "text": [
      "C:\\Anaconda3\\envs\\notebook\\Lib\\site-packages\\sklearn\\preprocessing\\_encoders.py:868: FutureWarning: `sparse` was renamed to `sparse_output` in version 1.2 and will be removed in 1.4. `sparse_output` is ignored unless you leave `sparse` to its default value.\n",
      "  warnings.warn(\n"
     ]
    }
   ],
   "source": [
    "#Encode categorical data\n",
    "encoder = OneHotEncoder(drop='first', sparse=False)\n",
    "X_train_cat_encoded = encoder.fit_transform(X_train[categorical_cols])\n",
    "X_test_cat_encoded = encoder.transform(X_test[categorical_cols])"
   ]
  },
  {
   "cell_type": "code",
   "execution_count": 29,
   "id": "6db7fa98-5989-4a10-81ce-7e18dc09ef83",
   "metadata": {},
   "outputs": [],
   "source": [
    "#recombining the numerical and categorical data\n",
    "X_train_preprocessed = np.concatenate((X_train_num_scaled, X_train_cat_encoded), axis=1)\n",
    "X_test_preprocessed = np.concatenate((X_test_num_scaled, X_test_cat_encoded), axis=1)"
   ]
  },
  {
   "cell_type": "code",
   "execution_count": 30,
   "id": "3c5b7756-9cba-4edb-9ade-eb8b14c86feb",
   "metadata": {},
   "outputs": [
    {
     "data": {
      "text/html": [
       "<style>#sk-container-id-1 {color: black;background-color: white;}#sk-container-id-1 pre{padding: 0;}#sk-container-id-1 div.sk-toggleable {background-color: white;}#sk-container-id-1 label.sk-toggleable__label {cursor: pointer;display: block;width: 100%;margin-bottom: 0;padding: 0.3em;box-sizing: border-box;text-align: center;}#sk-container-id-1 label.sk-toggleable__label-arrow:before {content: \"▸\";float: left;margin-right: 0.25em;color: #696969;}#sk-container-id-1 label.sk-toggleable__label-arrow:hover:before {color: black;}#sk-container-id-1 div.sk-estimator:hover label.sk-toggleable__label-arrow:before {color: black;}#sk-container-id-1 div.sk-toggleable__content {max-height: 0;max-width: 0;overflow: hidden;text-align: left;background-color: #f0f8ff;}#sk-container-id-1 div.sk-toggleable__content pre {margin: 0.2em;color: black;border-radius: 0.25em;background-color: #f0f8ff;}#sk-container-id-1 input.sk-toggleable__control:checked~div.sk-toggleable__content {max-height: 200px;max-width: 100%;overflow: auto;}#sk-container-id-1 input.sk-toggleable__control:checked~label.sk-toggleable__label-arrow:before {content: \"▾\";}#sk-container-id-1 div.sk-estimator input.sk-toggleable__control:checked~label.sk-toggleable__label {background-color: #d4ebff;}#sk-container-id-1 div.sk-label input.sk-toggleable__control:checked~label.sk-toggleable__label {background-color: #d4ebff;}#sk-container-id-1 input.sk-hidden--visually {border: 0;clip: rect(1px 1px 1px 1px);clip: rect(1px, 1px, 1px, 1px);height: 1px;margin: -1px;overflow: hidden;padding: 0;position: absolute;width: 1px;}#sk-container-id-1 div.sk-estimator {font-family: monospace;background-color: #f0f8ff;border: 1px dotted black;border-radius: 0.25em;box-sizing: border-box;margin-bottom: 0.5em;}#sk-container-id-1 div.sk-estimator:hover {background-color: #d4ebff;}#sk-container-id-1 div.sk-parallel-item::after {content: \"\";width: 100%;border-bottom: 1px solid gray;flex-grow: 1;}#sk-container-id-1 div.sk-label:hover label.sk-toggleable__label {background-color: #d4ebff;}#sk-container-id-1 div.sk-serial::before {content: \"\";position: absolute;border-left: 1px solid gray;box-sizing: border-box;top: 0;bottom: 0;left: 50%;z-index: 0;}#sk-container-id-1 div.sk-serial {display: flex;flex-direction: column;align-items: center;background-color: white;padding-right: 0.2em;padding-left: 0.2em;position: relative;}#sk-container-id-1 div.sk-item {position: relative;z-index: 1;}#sk-container-id-1 div.sk-parallel {display: flex;align-items: stretch;justify-content: center;background-color: white;position: relative;}#sk-container-id-1 div.sk-item::before, #sk-container-id-1 div.sk-parallel-item::before {content: \"\";position: absolute;border-left: 1px solid gray;box-sizing: border-box;top: 0;bottom: 0;left: 50%;z-index: -1;}#sk-container-id-1 div.sk-parallel-item {display: flex;flex-direction: column;z-index: 1;position: relative;background-color: white;}#sk-container-id-1 div.sk-parallel-item:first-child::after {align-self: flex-end;width: 50%;}#sk-container-id-1 div.sk-parallel-item:last-child::after {align-self: flex-start;width: 50%;}#sk-container-id-1 div.sk-parallel-item:only-child::after {width: 0;}#sk-container-id-1 div.sk-dashed-wrapped {border: 1px dashed gray;margin: 0 0.4em 0.5em 0.4em;box-sizing: border-box;padding-bottom: 0.4em;background-color: white;}#sk-container-id-1 div.sk-label label {font-family: monospace;font-weight: bold;display: inline-block;line-height: 1.2em;}#sk-container-id-1 div.sk-label-container {text-align: center;}#sk-container-id-1 div.sk-container {/* jupyter's `normalize.less` sets `[hidden] { display: none; }` but bootstrap.min.css set `[hidden] { display: none !important; }` so we also need the `!important` here to be able to override the default hidden behavior on the sphinx rendered scikit-learn.org. See: https://github.com/scikit-learn/scikit-learn/issues/21755 */display: inline-block !important;position: relative;}#sk-container-id-1 div.sk-text-repr-fallback {display: none;}</style><div id=\"sk-container-id-1\" class=\"sk-top-container\"><div class=\"sk-text-repr-fallback\"><pre>RandomForestClassifier(random_state=42)</pre><b>In a Jupyter environment, please rerun this cell to show the HTML representation or trust the notebook. <br />On GitHub, the HTML representation is unable to render, please try loading this page with nbviewer.org.</b></div><div class=\"sk-container\" hidden><div class=\"sk-item\"><div class=\"sk-estimator sk-toggleable\"><input class=\"sk-toggleable__control sk-hidden--visually\" id=\"sk-estimator-id-1\" type=\"checkbox\" checked><label for=\"sk-estimator-id-1\" class=\"sk-toggleable__label sk-toggleable__label-arrow\">RandomForestClassifier</label><div class=\"sk-toggleable__content\"><pre>RandomForestClassifier(random_state=42)</pre></div></div></div></div></div>"
      ],
      "text/plain": [
       "RandomForestClassifier(random_state=42)"
      ]
     },
     "execution_count": 30,
     "metadata": {},
     "output_type": "execute_result"
    }
   ],
   "source": [
    "#Initialize RandomForestClassifier and train the model\n",
    "rf_model = RandomForestClassifier(random_state=42)\n",
    "\n",
    "rf_model.fit(X_train_preprocessed, y_train)"
   ]
  },
  {
   "cell_type": "code",
   "execution_count": 31,
   "id": "68aa9ec8-f20c-40b1-80c0-dcc6294e7164",
   "metadata": {},
   "outputs": [],
   "source": [
    "#Make predictions\n",
    "y_pred = rf_model.predict(X_test_preprocessed)"
   ]
  },
  {
   "cell_type": "code",
   "execution_count": 32,
   "id": "c2572f08-9dbd-4a49-890b-a672a0b3a3db",
   "metadata": {},
   "outputs": [
    {
     "name": "stdout",
     "output_type": "stream",
     "text": [
      "Accuracy: 0.749\n"
     ]
    }
   ],
   "source": [
    "#Evaluate the model accuracy\n",
    "accuracy = accuracy_score(y_test, y_pred)\n",
    "print(\"Accuracy:\", accuracy)"
   ]
  },
  {
   "cell_type": "code",
   "execution_count": 33,
   "id": "d185423d-3a8d-4ad1-8b8e-38197158c68b",
   "metadata": {},
   "outputs": [
    {
     "name": "stdout",
     "output_type": "stream",
     "text": [
      "AUC-ROC: 0.7302350310807939\n"
     ]
    },
    {
     "data": {
      "image/png": "[encoded data removed]",
      "text/plain": [
       "<Figure size 640x480 with 1 Axes>"
      ]
     },
     "metadata": {},
     "output_type": "display_data"
    }
   ],
   "source": [
    "#Calculate AUC score\n",
    "auc = roc_auc_score(y_test, y_pred)\n",
    "print(\"AUC-ROC:\", auc)\n",
    "\n",
    "#calculate the ROC Curve and plot it\n",
    "fpr, tpr, thresholds = roc_curve(y_test, y_pred)\n",
    "\n",
    "plt.figure()\n",
    "plt.plot(fpr, tpr, color='blue', label=f'AUC = {auc:.2f}')\n",
    "plt.plot([0, 1], [0, 1], color='gray', linestyle='--')\n",
    "plt.xlabel('False Positive Rate')\n",
    "plt.ylabel('True Positive Rate')\n",
    "plt.title('Receiver Operating Characteristic (ROC) Curve')\n",
    "plt.legend(loc=\"lower right\")\n",
    "plt.show()"
   ]
  },
  {
   "cell_type": "markdown",
   "id": "64000bd1-4b6f-4f1d-bba6-ebc0ce5b2c86",
   "metadata": {},
   "source": [
    "The model got an accuracy score of 74.9% and a AUC-ROC score of .76 indicating the model does much better than random guess and has the ability to classify the riders in this dataset effectively. I would not expect this model to perform as well on a new dataset. This dataset is concentrated on the cohort that started in January and finished on July 1st. Any underlying patterns the model learned may only apply to that group of custoemrs and be of little value in analyzing another group."
   ]
  },
  {
   "cell_type": "markdown",
   "id": "8c24a556-9f43-4cb2-9948-d9509a7640f3",
   "metadata": {},
   "source": [
    "# 3. Leveraging the Model\n",
    "\n",
    "A Model that is trained more broadly across a larger population of the riders would provide greater insight into the possible featuers that could most strongly indicate whether a customer is active after 6 months. A model that could accuaretly predict whether riders continued riding into their sixth month and beyond could allow the company to to do more to targe those riders with incentives to continue riding. Another way this model could be leveraged is if it could help the company identify more easily a core demographic to advertise to."
   ]
  },
  {
   "cell_type": "code",
   "execution_count": 34,
   "id": "c44daa46-c0ce-45a2-9b73-33ffdfe88b8d",
   "metadata": {},
   "outputs": [
    {
     "name": "stdout",
     "output_type": "stream",
     "text": [
      "ultimate_data_challenge.json has been deleted.\n"
     ]
    }
   ],
   "source": [
    "import os\n",
    "\n",
    "#Deleteing the dataset as instructed\n",
    "file_path = \"ultimate_data_challenge.json\"\n",
    "\n",
    "# Check if the file exists\n",
    "if os.path.exists(file_path):\n",
    "    os.remove(file_path)\n",
    "    print(f\"{file_path} has been deleted.\")\n",
    "else:\n",
    "    print(f\"{file_path} does not exist.\")"
   ]
  }
 ],
 "metadata": {
  "kernelspec": {
   "display_name": "Python 3 (ipykernel)",
   "language": "python",
   "name": "python3"
  },
  "language_info": {
   "codemirror_mode": {
    "name": "ipython",
    "version": 3
   },
   "file_extension": ".py",
   "mimetype": "text/x-python",
   "name": "python",
   "nbconvert_exporter": "python",
   "pygments_lexer": "ipython3",
   "version": "3.11.9"
  }
 },
 "nbformat": 4,
 "nbformat_minor": 5
}
